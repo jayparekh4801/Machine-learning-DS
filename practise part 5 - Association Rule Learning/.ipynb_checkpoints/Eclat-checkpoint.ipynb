{
 "cells": [
  {
   "cell_type": "markdown",
   "id": "encouraging-olympus",
   "metadata": {},
   "source": [
    "# Importing Libraries"
   ]
  },
  {
   "cell_type": "code",
   "execution_count": 1,
   "id": "bearing-start",
   "metadata": {},
   "outputs": [],
   "source": [
    "import numpy as np\n",
    "import pandas as pd\n",
    "import matplotlib.pyplot as plt"
   ]
  },
  {
   "cell_type": "markdown",
   "id": "colored-barcelona",
   "metadata": {},
   "source": [
    "# Importing Dataset"
   ]
  },
  {
   "cell_type": "code",
   "execution_count": 2,
   "id": "planned-logan",
   "metadata": {},
   "outputs": [],
   "source": [
    "dataset = pd.read_csv(\"/Users/jayparekh/Documents/machine_learning_dataScience/Machine Learning A-Z (Codes and Datasets)/Part 5 - Association Rule Learning/Section 28 - Apriori/Python/Market_Basket_Optimisation.csv\", header = None)\n",
    "transactions = []\n",
    "for i in dataset.index :\n",
    "    transactions.append([str(item) for item in dataset.iloc[i, : ]])"
   ]
  },
  {
   "cell_type": "markdown",
   "id": "stylish-gallery",
   "metadata": {},
   "source": [
    "# Making Eclat Model"
   ]
  },
  {
   "cell_type": "code",
   "execution_count": 7,
   "id": "equivalent-module",
   "metadata": {},
   "outputs": [],
   "source": [
    "from apyori import apriori\n",
    "sets = apriori(transactions = transactions, min_support = 0.0046, min_confidence = 0.01, min_lift = 3, min_length = 2, max_length = 5)\n",
    "results = list(sets)"
   ]
  },
  {
   "cell_type": "raw",
   "id": "veterinary-clarity",
   "metadata": {},
   "source": []
  }
 ],
 "metadata": {
  "kernelspec": {
   "display_name": "Python 3",
   "language": "python",
   "name": "python3"
  },
  "language_info": {
   "codemirror_mode": {
    "name": "ipython",
    "version": 3
   },
   "file_extension": ".py",
   "mimetype": "text/x-python",
   "name": "python",
   "nbconvert_exporter": "python",
   "pygments_lexer": "ipython3",
   "version": "3.9.1"
  }
 },
 "nbformat": 4,
 "nbformat_minor": 5
}
