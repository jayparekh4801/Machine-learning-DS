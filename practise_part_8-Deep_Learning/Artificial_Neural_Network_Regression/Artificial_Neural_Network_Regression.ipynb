{
 "cells": [
  {
   "cell_type": "markdown",
   "id": "tracked-assault",
   "metadata": {},
   "source": [
    "# Importing Libraries"
   ]
  },
  {
   "cell_type": "code",
   "execution_count": 1,
   "id": "executed-complement",
   "metadata": {},
   "outputs": [
    {
     "name": "stdout",
     "output_type": "stream",
     "text": [
      "INFO:tensorflow:Enabling eager execution\n",
      "INFO:tensorflow:Enabling v2 tensorshape\n",
      "INFO:tensorflow:Enabling resource variables\n",
      "INFO:tensorflow:Enabling tensor equality\n",
      "INFO:tensorflow:Enabling control flow v2\n"
     ]
    }
   ],
   "source": [
    "import numpy as np\n",
    "import pandas as pd\n",
    "import tensorflow as tf"
   ]
  },
  {
   "cell_type": "markdown",
   "id": "honey-berlin",
   "metadata": {},
   "source": [
    "# Importing Dataset"
   ]
  },
  {
   "cell_type": "code",
   "execution_count": 2,
   "id": "weekly-fusion",
   "metadata": {},
   "outputs": [],
   "source": [
    "dataset = pd.read_excel(\"./Folds5x2_pp.xlsx\")\n",
    "independent = dataset.iloc[ : , : -1].values\n",
    "dependent = dataset.iloc[ : , -1].values"
   ]
  },
  {
   "cell_type": "markdown",
   "id": "valued-preservation",
   "metadata": {},
   "source": [
    "# Spllitting Daraset Into Test Set And Training Set"
   ]
  },
  {
   "cell_type": "code",
   "execution_count": 3,
   "id": "broad-interview",
   "metadata": {},
   "outputs": [],
   "source": [
    "from sklearn.model_selection import train_test_split\n",
    "independent_train, independent_test, dependent_train, dependent_test = train_test_split(independent, dependent, test_size = 0.2, random_state = 0)"
   ]
  },
  {
   "cell_type": "markdown",
   "id": "cordless-convertible",
   "metadata": {},
   "source": [
    "# Feature Scaling"
   ]
  },
  {
   "cell_type": "code",
   "execution_count": null,
   "id": "identical-directory",
   "metadata": {},
   "outputs": [],
   "source": [
    "from sklearn.preprocessing import StandardScaler\n",
    "scalar = StandardScaler()\n",
    "independent_train_scal = scalar.fit_transform(independent_train)\n",
    "independent_test_scal = scalar.transform(independent_test)\n",
    "dependent_train_scal = scalar.transform(dependent_train)\n",
    "dependent_test_scal = scalar.transform(dependent_test)"
   ]
  },
  {
   "cell_type": "markdown",
   "id": "threaded-deadline",
   "metadata": {},
   "source": [
    "# Build ANN"
   ]
  },
  {
   "cell_type": "markdown",
   "id": "partial-interim",
   "metadata": {},
   "source": [
    "(1) Initializing ANN "
   ]
  },
  {
   "cell_type": "code",
   "execution_count": 4,
   "id": "soviet-gospel",
   "metadata": {},
   "outputs": [],
   "source": [
    "ann = tf.keras.models.Sequential()"
   ]
  },
  {
   "cell_type": "markdown",
   "id": "hundred-bridge",
   "metadata": {},
   "source": [
    "(2) Adding First Hidden Layer"
   ]
  },
  {
   "cell_type": "code",
   "execution_count": 5,
   "id": "stuffed-theater",
   "metadata": {},
   "outputs": [],
   "source": [
    "ann.add(tf.keras.layers.Dense(units = 6, activation = \"relu\"))"
   ]
  },
  {
   "cell_type": "markdown",
   "id": "outer-algebra",
   "metadata": {},
   "source": [
    "(3) Adding Another Layer"
   ]
  },
  {
   "cell_type": "code",
   "execution_count": 8,
   "id": "limiting-seattle",
   "metadata": {},
   "outputs": [],
   "source": [
    "ann.add(tf.keras.layers.Dense(units = 6, activation = \"relu\"))"
   ]
  },
  {
   "cell_type": "markdown",
   "id": "original-carnival",
   "metadata": {},
   "source": [
    "(4) Adding Output Layer"
   ]
  },
  {
   "cell_type": "code",
   "execution_count": 9,
   "id": "hawaiian-tournament",
   "metadata": {},
   "outputs": [],
   "source": [
    "ann.add(tf.keras.layers.Dense(units = 1))"
   ]
  },
  {
   "cell_type": "code",
   "execution_count": null,
   "id": "medical-seeking",
   "metadata": {},
   "outputs": [],
   "source": []
  }
 ],
 "metadata": {
  "kernelspec": {
   "display_name": "Python 3",
   "language": "python",
   "name": "python3"
  },
  "language_info": {
   "codemirror_mode": {
    "name": "ipython",
    "version": 3
   },
   "file_extension": ".py",
   "mimetype": "text/x-python",
   "name": "python",
   "nbconvert_exporter": "python",
   "pygments_lexer": "ipython3",
   "version": "3.9.1"
  }
 },
 "nbformat": 4,
 "nbformat_minor": 5
}
