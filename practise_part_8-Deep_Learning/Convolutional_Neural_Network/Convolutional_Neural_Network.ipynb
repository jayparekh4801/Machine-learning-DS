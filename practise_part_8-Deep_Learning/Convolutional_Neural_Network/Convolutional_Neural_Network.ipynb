{
 "cells": [
  {
   "cell_type": "markdown",
   "id": "orange-charm",
   "metadata": {},
   "source": [
    "# Importing Libraries"
   ]
  },
  {
   "cell_type": "code",
   "execution_count": 1,
   "id": "religious-tucson",
   "metadata": {},
   "outputs": [
    {
     "name": "stdout",
     "output_type": "stream",
     "text": [
      "INFO:tensorflow:Enabling eager execution\n",
      "INFO:tensorflow:Enabling v2 tensorshape\n",
      "INFO:tensorflow:Enabling resource variables\n",
      "INFO:tensorflow:Enabling tensor equality\n",
      "INFO:tensorflow:Enabling control flow v2\n"
     ]
    }
   ],
   "source": [
    "import tensorflow as tf\n",
    "from keras.preprocessing.image import ImageDataGenerator"
   ]
  },
  {
   "cell_type": "code",
   "execution_count": 2,
   "id": "southern-profit",
   "metadata": {},
   "outputs": [
    {
     "data": {
      "text/plain": [
       "'2.5.0-rc1'"
      ]
     },
     "execution_count": 2,
     "metadata": {},
     "output_type": "execute_result"
    }
   ],
   "source": [
    "tf.__version__"
   ]
  },
  {
   "cell_type": "markdown",
   "id": "tired-couple",
   "metadata": {},
   "source": [
    "# Data Preprocessing"
   ]
  },
  {
   "cell_type": "markdown",
   "id": "limiting-tackle",
   "metadata": {},
   "source": [
    "(1) Preprocessing Training Dataset "
   ]
  },
  {
   "cell_type": "code",
   "execution_count": 3,
   "id": "cheap-passing",
   "metadata": {},
   "outputs": [
    {
     "name": "stdout",
     "output_type": "stream",
     "text": [
      "Found 8000 images belonging to 2 classes.\n"
     ]
    }
   ],
   "source": [
    "train_datagen = ImageDataGenerator(\n",
    "                rescale = 1. / 255,\n",
    "                shear_range = 0.2,\n",
    "                zoom_range = 0.2,\n",
    "                horizontal_flip = True)\n",
    "training_set =  train_datagen.flow_from_directory(\n",
    "                \"./dataset/training_set\",\n",
    "                target_size = (64, 64),\n",
    "                batch_size  = 32,\n",
    "                class_mode  = 'binary')"
   ]
  },
  {
   "cell_type": "markdown",
   "id": "protected-leave",
   "metadata": {},
   "source": [
    "(2) Preprocessing Test Set"
   ]
  },
  {
   "cell_type": "code",
   "execution_count": 4,
   "id": "recent-image",
   "metadata": {},
   "outputs": [
    {
     "name": "stdout",
     "output_type": "stream",
     "text": [
      "Found 2000 images belonging to 2 classes.\n"
     ]
    }
   ],
   "source": [
    "test_datagen = ImageDataGenerator(rescale = 1. / 255)\n",
    "test_set =  test_datagen.flow_from_directory(\n",
    "            \"./dataset/test_set\",\n",
    "            target_size = (64, 64),\n",
    "            batch_size  = 32,\n",
    "            class_mode  = 'binary')"
   ]
  },
  {
   "cell_type": "markdown",
   "id": "welsh-consumption",
   "metadata": {},
   "source": [
    "# Building CNN Model"
   ]
  },
  {
   "cell_type": "markdown",
   "id": "quarterly-jones",
   "metadata": {},
   "source": [
    "(1) Initialize CNN Model"
   ]
  },
  {
   "cell_type": "code",
   "execution_count": 5,
   "id": "potential-brazil",
   "metadata": {},
   "outputs": [],
   "source": [
    "cnn = tf.keras.models.Sequential()"
   ]
  },
  {
   "cell_type": "markdown",
   "id": "attractive-aggregate",
   "metadata": {},
   "source": [
    "(2) Adding Convolution"
   ]
  },
  {
   "cell_type": "code",
   "execution_count": 6,
   "id": "covered-olympus",
   "metadata": {},
   "outputs": [],
   "source": [
    "cnn.add(tf.keras.layers.Conv2D(filters = 32, kernel_size = 3, activation = \"relu\", input_shape = [64, 64, 3], strides = (1, 1))) \n",
    "        "
   ]
  },
  {
   "cell_type": "markdown",
   "id": "optimum-volunteer",
   "metadata": {},
   "source": [
    "(3) Adding Pooling "
   ]
  },
  {
   "cell_type": "code",
   "execution_count": 7,
   "id": "muslim-integration",
   "metadata": {},
   "outputs": [],
   "source": [
    "cnn.add(tf.keras.layers.MaxPool2D(strides = 2, pool_size = 2))"
   ]
  },
  {
   "cell_type": "markdown",
   "id": "optimum-leisure",
   "metadata": {},
   "source": [
    "(4) Adding Another Convolution And Pooling Layer"
   ]
  },
  {
   "cell_type": "code",
   "execution_count": 8,
   "id": "velvet-assembly",
   "metadata": {},
   "outputs": [],
   "source": [
    "cnn.add(tf.keras.layers.Conv2D(filters = 32, kernel_size = 3, activation = \"relu\", strides = (1, 1)))\n",
    "cnn.add(tf.keras.layers.MaxPool2D(pool_size = 2, strides = 2))"
   ]
  },
  {
   "cell_type": "markdown",
   "id": "structural-summer",
   "metadata": {},
   "source": [
    "(5) Flattening"
   ]
  },
  {
   "cell_type": "code",
   "execution_count": 9,
   "id": "referenced-azerbaijan",
   "metadata": {},
   "outputs": [],
   "source": [
    "cnn.add(tf.keras.layers.Flatten())"
   ]
  },
  {
   "cell_type": "markdown",
   "id": "lined-observer",
   "metadata": {},
   "source": [
    "(6) Full Connection(ANN)"
   ]
  },
  {
   "cell_type": "code",
   "execution_count": 10,
   "id": "velvet-tissue",
   "metadata": {},
   "outputs": [],
   "source": [
    "cnn.add(tf.keras.layers.Dense(units = 128, activation = \"relu\"))"
   ]
  },
  {
   "cell_type": "markdown",
   "id": "quick-offense",
   "metadata": {},
   "source": [
    "(7) Output Layer"
   ]
  },
  {
   "cell_type": "code",
   "execution_count": 11,
   "id": "successful-whale",
   "metadata": {},
   "outputs": [],
   "source": [
    "cnn.add(tf.keras.layers.Dense(units = 1, activation = \"sigmoid\"))"
   ]
  },
  {
   "cell_type": "markdown",
   "id": "injured-removal",
   "metadata": {},
   "source": [
    "# Training CNN Model"
   ]
  },
  {
   "cell_type": "code",
   "execution_count": 12,
   "id": "alert-regular",
   "metadata": {},
   "outputs": [],
   "source": [
    "cnn.compile(optimizer = \"adam\", loss=\"binary_crossentropy\", metrics = [\"accuracy\"])"
   ]
  },
  {
   "cell_type": "code",
   "execution_count": 13,
   "id": "novel-college",
   "metadata": {},
   "outputs": [
    {
     "name": "stdout",
     "output_type": "stream",
     "text": [
      "Epoch 1/25\n",
      "250/250 [==============================] - 65s 255ms/step - loss: 0.6808 - accuracy: 0.5711 - val_loss: 0.5940 - val_accuracy: 0.6905\n",
      "Epoch 2/25\n",
      "250/250 [==============================] - 62s 247ms/step - loss: 0.6023 - accuracy: 0.6726 - val_loss: 0.5713 - val_accuracy: 0.7015\n",
      "Epoch 3/25\n",
      "250/250 [==============================] - 63s 252ms/step - loss: 0.5578 - accuracy: 0.7121 - val_loss: 0.5648 - val_accuracy: 0.7205\n",
      "Epoch 4/25\n",
      "250/250 [==============================] - 57s 228ms/step - loss: 0.5250 - accuracy: 0.7388 - val_loss: 0.5096 - val_accuracy: 0.7580\n",
      "Epoch 5/25\n",
      "250/250 [==============================] - 55s 221ms/step - loss: 0.5109 - accuracy: 0.7484 - val_loss: 0.4982 - val_accuracy: 0.7620\n",
      "Epoch 6/25\n",
      "250/250 [==============================] - 55s 219ms/step - loss: 0.4790 - accuracy: 0.7667 - val_loss: 0.4976 - val_accuracy: 0.7505\n",
      "Epoch 7/25\n",
      "250/250 [==============================] - 55s 220ms/step - loss: 0.4653 - accuracy: 0.7788 - val_loss: 0.4697 - val_accuracy: 0.7695\n",
      "Epoch 8/25\n",
      "250/250 [==============================] - 55s 221ms/step - loss: 0.4429 - accuracy: 0.7942 - val_loss: 0.5232 - val_accuracy: 0.7535\n",
      "Epoch 9/25\n",
      "250/250 [==============================] - 56s 223ms/step - loss: 0.4332 - accuracy: 0.7912 - val_loss: 0.4547 - val_accuracy: 0.7875\n",
      "Epoch 10/25\n",
      "250/250 [==============================] - 57s 226ms/step - loss: 0.4137 - accuracy: 0.8143 - val_loss: 0.4764 - val_accuracy: 0.7820\n",
      "Epoch 11/25\n",
      "250/250 [==============================] - 56s 226ms/step - loss: 0.4032 - accuracy: 0.8112 - val_loss: 0.4670 - val_accuracy: 0.7955\n",
      "Epoch 12/25\n",
      "250/250 [==============================] - 57s 228ms/step - loss: 0.3922 - accuracy: 0.8272 - val_loss: 0.4535 - val_accuracy: 0.7905\n",
      "Epoch 13/25\n",
      "250/250 [==============================] - 57s 229ms/step - loss: 0.3636 - accuracy: 0.8363 - val_loss: 0.4589 - val_accuracy: 0.7935\n",
      "Epoch 14/25\n",
      "250/250 [==============================] - 61s 245ms/step - loss: 0.3800 - accuracy: 0.8255 - val_loss: 0.5079 - val_accuracy: 0.7825\n",
      "Epoch 15/25\n",
      "250/250 [==============================] - 59s 235ms/step - loss: 0.3505 - accuracy: 0.8365 - val_loss: 0.5015 - val_accuracy: 0.7890\n",
      "Epoch 16/25\n",
      "250/250 [==============================] - 59s 236ms/step - loss: 0.3375 - accuracy: 0.8475 - val_loss: 0.5634 - val_accuracy: 0.7660\n",
      "Epoch 17/25\n",
      "250/250 [==============================] - 54s 216ms/step - loss: 0.3454 - accuracy: 0.8463 - val_loss: 0.4860 - val_accuracy: 0.7935\n",
      "Epoch 18/25\n",
      "250/250 [==============================] - 59s 238ms/step - loss: 0.3192 - accuracy: 0.8578 - val_loss: 0.4705 - val_accuracy: 0.8065\n",
      "Epoch 19/25\n",
      "250/250 [==============================] - 58s 232ms/step - loss: 0.3005 - accuracy: 0.8673 - val_loss: 0.4728 - val_accuracy: 0.8040\n",
      "Epoch 20/25\n",
      "250/250 [==============================] - 58s 231ms/step - loss: 0.2791 - accuracy: 0.8797 - val_loss: 0.5228 - val_accuracy: 0.7895\n",
      "Epoch 21/25\n",
      "250/250 [==============================] - 57s 226ms/step - loss: 0.2964 - accuracy: 0.8735 - val_loss: 0.4926 - val_accuracy: 0.8030\n",
      "Epoch 22/25\n",
      "250/250 [==============================] - 57s 228ms/step - loss: 0.2743 - accuracy: 0.8879 - val_loss: 0.5579 - val_accuracy: 0.7750\n",
      "Epoch 23/25\n",
      "250/250 [==============================] - 57s 228ms/step - loss: 0.2756 - accuracy: 0.8787 - val_loss: 0.5207 - val_accuracy: 0.8025\n",
      "Epoch 24/25\n",
      "250/250 [==============================] - 57s 229ms/step - loss: 0.2402 - accuracy: 0.9023 - val_loss: 0.5139 - val_accuracy: 0.8005\n",
      "Epoch 25/25\n",
      "250/250 [==============================] - 60s 239ms/step - loss: 0.2376 - accuracy: 0.9031 - val_loss: 0.5283 - val_accuracy: 0.7960\n"
     ]
    },
    {
     "data": {
      "text/plain": [
       "<tensorflow.python.keras.callbacks.History at 0x7f87af74e820>"
      ]
     },
     "execution_count": 13,
     "metadata": {},
     "output_type": "execute_result"
    }
   ],
   "source": [
    "cnn.fit(x = training_set, validation_data = test_set, epochs = 25) "
   ]
  },
  {
   "cell_type": "markdown",
   "id": "tribal-people",
   "metadata": {},
   "source": [
    "# Making Prediction Of Single Image"
   ]
  },
  {
   "cell_type": "code",
   "execution_count": 26,
   "id": "facial-sunglasses",
   "metadata": {},
   "outputs": [],
   "source": [
    "import numpy as np\n",
    "from keras.preprocessing import image\n",
    "test_image = image.load_img(\"dataset/single_prediction/cat_or_dog_2.jpg\", target_size=(64, 64))\n",
    "test_image = image.img_to_array(test_image)\n",
    "test_image = np.expand_dims(test_image, axis=0)\n",
    "result = cnn.predict(test_image)\n",
    "training_set.class_indices\n",
    "if result[0][0] == 1 :\n",
    "    prediction = \"dog\"\n",
    "else :\n",
    "    prediction = \"cat\""
   ]
  },
  {
   "cell_type": "code",
   "execution_count": 27,
   "id": "retained-speaker",
   "metadata": {},
   "outputs": [
    {
     "name": "stdout",
     "output_type": "stream",
     "text": [
      "dog\n"
     ]
    }
   ],
   "source": [
    "print(prediction)"
   ]
  },
  {
   "cell_type": "code",
   "execution_count": null,
   "id": "cathedral-negotiation",
   "metadata": {},
   "outputs": [],
   "source": []
  }
 ],
 "metadata": {
  "kernelspec": {
   "display_name": "Python 3",
   "language": "python",
   "name": "python3"
  },
  "language_info": {
   "codemirror_mode": {
    "name": "ipython",
    "version": 3
   },
   "file_extension": ".py",
   "mimetype": "text/x-python",
   "name": "python",
   "nbconvert_exporter": "python",
   "pygments_lexer": "ipython3",
   "version": "3.9.1"
  }
 },
 "nbformat": 4,
 "nbformat_minor": 5
}
