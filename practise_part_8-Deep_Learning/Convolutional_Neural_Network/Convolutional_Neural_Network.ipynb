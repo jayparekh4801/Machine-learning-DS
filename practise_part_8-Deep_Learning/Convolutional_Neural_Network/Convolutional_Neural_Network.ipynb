{
 "cells": [
  {
   "cell_type": "markdown",
   "id": "executed-noise",
   "metadata": {},
   "source": [
    "# Importing Libraries"
   ]
  },
  {
   "cell_type": "code",
   "execution_count": 1,
   "id": "conservative-newman",
   "metadata": {},
   "outputs": [
    {
     "name": "stdout",
     "output_type": "stream",
     "text": [
      "INFO:tensorflow:Enabling eager execution\n",
      "INFO:tensorflow:Enabling v2 tensorshape\n",
      "INFO:tensorflow:Enabling resource variables\n",
      "INFO:tensorflow:Enabling tensor equality\n",
      "INFO:tensorflow:Enabling control flow v2\n"
     ]
    }
   ],
   "source": [
    "import tensorflow as tf\n",
    "from keras.preprocessing.image import ImageDataGenerator"
   ]
  },
  {
   "cell_type": "code",
   "execution_count": 2,
   "id": "tired-cheese",
   "metadata": {},
   "outputs": [
    {
     "data": {
      "text/plain": [
       "'2.5.0-rc1'"
      ]
     },
     "execution_count": 2,
     "metadata": {},
     "output_type": "execute_result"
    }
   ],
   "source": [
    "tf.__version__"
   ]
  },
  {
   "cell_type": "markdown",
   "id": "russian-swing",
   "metadata": {},
   "source": [
    "# Data Preprocessing"
   ]
  },
  {
   "cell_type": "markdown",
   "id": "opposed-scout",
   "metadata": {},
   "source": [
    "(1) Preprocessing Training Dataset "
   ]
  },
  {
   "cell_type": "code",
   "execution_count": 3,
   "id": "political-wisconsin",
   "metadata": {},
   "outputs": [
    {
     "name": "stdout",
     "output_type": "stream",
     "text": [
      "Found 8000 images belonging to 2 classes.\n"
     ]
    }
   ],
   "source": [
    "train_datagen = ImageDataGenerator(\n",
    "                rescale = 1. / 255,\n",
    "                shear_range = 0.2,\n",
    "                zoom_range = 0.2,\n",
    "                horizontal_flip = True)\n",
    "training_set =  train_datagen.flow_from_directory(\n",
    "                \"./dataset/training_set\",\n",
    "                target_size = (64, 64),\n",
    "                batch_size  = 32,\n",
    "                class_mode  = 'binary')"
   ]
  },
  {
   "cell_type": "markdown",
   "id": "upset-shirt",
   "metadata": {},
   "source": [
    "(2) Preprocessing Test Set"
   ]
  },
  {
   "cell_type": "code",
   "execution_count": 4,
   "id": "heavy-commodity",
   "metadata": {},
   "outputs": [
    {
     "name": "stdout",
     "output_type": "stream",
     "text": [
      "Found 2000 images belonging to 2 classes.\n"
     ]
    }
   ],
   "source": [
    "test_datagen = ImageDataGenerator(rescale = 1. / 255)\n",
    "test_set =  test_datagen.flow_from_directory(\n",
    "            \"./dataset/test_set\",\n",
    "            target_size = (64, 64),\n",
    "            batch_size  = 32,\n",
    "            class_mode  = 'binary')"
   ]
  },
  {
   "cell_type": "code",
   "execution_count": null,
   "id": "nasty-adrian",
   "metadata": {},
   "outputs": [],
   "source": []
  }
 ],
 "metadata": {
  "kernelspec": {
   "display_name": "Python 3",
   "language": "python",
   "name": "python3"
  },
  "language_info": {
   "codemirror_mode": {
    "name": "ipython",
    "version": 3
   },
   "file_extension": ".py",
   "mimetype": "text/x-python",
   "name": "python",
   "nbconvert_exporter": "python",
   "pygments_lexer": "ipython3",
   "version": "3.9.1"
  }
 },
 "nbformat": 4,
 "nbformat_minor": 5
}
