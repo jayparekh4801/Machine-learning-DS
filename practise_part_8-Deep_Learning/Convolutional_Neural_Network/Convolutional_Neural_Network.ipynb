{
 "cells": [
  {
   "cell_type": "markdown",
   "id": "orange-charm",
   "metadata": {},
   "source": [
    "# Importing Libraries"
   ]
  },
  {
   "cell_type": "code",
   "execution_count": 20,
   "id": "religious-tucson",
   "metadata": {},
   "outputs": [],
   "source": [
    "import tensorflow as tf\n",
    "from keras.preprocessing.image import ImageDataGenerator"
   ]
  },
  {
   "cell_type": "code",
   "execution_count": 21,
   "id": "southern-profit",
   "metadata": {},
   "outputs": [
    {
     "data": {
      "text/plain": [
       "'2.5.0-rc1'"
      ]
     },
     "execution_count": 21,
     "metadata": {},
     "output_type": "execute_result"
    }
   ],
   "source": [
    "tf.__version__"
   ]
  },
  {
   "cell_type": "markdown",
   "id": "tired-couple",
   "metadata": {},
   "source": [
    "# Data Preprocessing"
   ]
  },
  {
   "cell_type": "markdown",
   "id": "limiting-tackle",
   "metadata": {},
   "source": [
    "(1) Preprocessing Training Dataset "
   ]
  },
  {
   "cell_type": "code",
   "execution_count": 22,
   "id": "cheap-passing",
   "metadata": {},
   "outputs": [
    {
     "name": "stdout",
     "output_type": "stream",
     "text": [
      "Found 8000 images belonging to 2 classes.\n"
     ]
    }
   ],
   "source": [
    "train_datagen = ImageDataGenerator(\n",
    "                rescale = 1. / 255,\n",
    "                shear_range = 0.2,\n",
    "                zoom_range = 0.2,\n",
    "                horizontal_flip = True)\n",
    "training_set =  train_datagen.flow_from_directory(\n",
    "                \"./dataset/training_set\",\n",
    "                target_size = (64, 64),\n",
    "                batch_size  = 32,\n",
    "                class_mode  = 'binary')"
   ]
  },
  {
   "cell_type": "markdown",
   "id": "protected-leave",
   "metadata": {},
   "source": [
    "(2) Preprocessing Test Set"
   ]
  },
  {
   "cell_type": "code",
   "execution_count": 23,
   "id": "recent-image",
   "metadata": {},
   "outputs": [
    {
     "name": "stdout",
     "output_type": "stream",
     "text": [
      "Found 2000 images belonging to 2 classes.\n"
     ]
    }
   ],
   "source": [
    "test_datagen = ImageDataGenerator(rescale = 1. / 255)\n",
    "test_set =  test_datagen.flow_from_directory(\n",
    "            \"./dataset/test_set\",\n",
    "            target_size = (64, 64),\n",
    "            batch_size  = 32,\n",
    "            class_mode  = 'binary')"
   ]
  },
  {
   "cell_type": "markdown",
   "id": "welsh-consumption",
   "metadata": {},
   "source": [
    "# Building CNN Model"
   ]
  },
  {
   "cell_type": "markdown",
   "id": "quarterly-jones",
   "metadata": {},
   "source": [
    "(1) Initialize CNN Model"
   ]
  },
  {
   "cell_type": "code",
   "execution_count": 24,
   "id": "potential-brazil",
   "metadata": {},
   "outputs": [],
   "source": [
    "cnn = tf.keras.models.Sequential()"
   ]
  },
  {
   "cell_type": "markdown",
   "id": "attractive-aggregate",
   "metadata": {},
   "source": [
    "(2) Adding Convolution"
   ]
  },
  {
   "cell_type": "code",
   "execution_count": 25,
   "id": "covered-olympus",
   "metadata": {},
   "outputs": [],
   "source": [
    "cnn.add(tf.keras.layers.Conv2D(filters = 32, kernel_size = 3, activation = \"relu\", input_shape = [64, 64, 3], strides = (1, 1))) \n",
    "        "
   ]
  },
  {
   "cell_type": "markdown",
   "id": "optimum-volunteer",
   "metadata": {},
   "source": [
    "(3) Adding Pooling "
   ]
  },
  {
   "cell_type": "code",
   "execution_count": 26,
   "id": "muslim-integration",
   "metadata": {},
   "outputs": [],
   "source": [
    "cnn.add(tf.keras.layers.MaxPool2D(strides = 2, pool_size = 2))"
   ]
  },
  {
   "cell_type": "markdown",
   "id": "optimum-leisure",
   "metadata": {},
   "source": [
    "(4) Adding Another Convolution And Pooling Layer"
   ]
  },
  {
   "cell_type": "code",
   "execution_count": 27,
   "id": "velvet-assembly",
   "metadata": {},
   "outputs": [],
   "source": [
    "cnn.add(tf.keras.layers.Conv2D(filters = 32, kernel_size = 3, activation = \"relu\", strides = (1, 1)))\n",
    "cnn.add(tf.keras.layers.MaxPool2D(pool_size = 2, strides = 2))"
   ]
  },
  {
   "cell_type": "markdown",
   "id": "structural-summer",
   "metadata": {},
   "source": [
    "(5) Flattening"
   ]
  },
  {
   "cell_type": "code",
   "execution_count": 28,
   "id": "referenced-azerbaijan",
   "metadata": {},
   "outputs": [],
   "source": [
    "cnn.add(tf.keras.layers.Flatten())"
   ]
  },
  {
   "cell_type": "markdown",
   "id": "lined-observer",
   "metadata": {},
   "source": [
    "(6) Full Connection(ANN)"
   ]
  },
  {
   "cell_type": "code",
   "execution_count": 29,
   "id": "velvet-tissue",
   "metadata": {},
   "outputs": [],
   "source": [
    "cnn.add(tf.keras.layers.Dense(units = 128, activation = \"relu\"))"
   ]
  },
  {
   "cell_type": "markdown",
   "id": "quick-offense",
   "metadata": {},
   "source": [
    "(7) Output Layer"
   ]
  },
  {
   "cell_type": "code",
   "execution_count": 30,
   "id": "successful-whale",
   "metadata": {},
   "outputs": [],
   "source": [
    "cnn.add(tf.keras.layers.Dense(units = 1, activation = \"sigmoid\"))"
   ]
  },
  {
   "cell_type": "markdown",
   "id": "injured-removal",
   "metadata": {},
   "source": [
    "# Training CNN Model"
   ]
  },
  {
   "cell_type": "code",
   "execution_count": 31,
   "id": "alert-regular",
   "metadata": {},
   "outputs": [],
   "source": [
    "cnn.compile(optimizer = \"adam\", loss=\"binary_crossentropy\", metrics = [\"accuracy\"])"
   ]
  },
  {
   "cell_type": "code",
   "execution_count": 32,
   "id": "novel-college",
   "metadata": {},
   "outputs": [
    {
     "name": "stdout",
     "output_type": "stream",
     "text": [
      "Epoch 1/25\n",
      "250/250 [==============================] - 63s 250ms/step - loss: 0.6797 - accuracy: 0.5666 - val_loss: 0.6186 - val_accuracy: 0.6735\n",
      "Epoch 2/25\n",
      "250/250 [==============================] - 60s 241ms/step - loss: 0.6004 - accuracy: 0.6752 - val_loss: 0.6004 - val_accuracy: 0.6750\n",
      "Epoch 3/25\n",
      "250/250 [==============================] - 62s 250ms/step - loss: 0.5595 - accuracy: 0.7154 - val_loss: 0.5377 - val_accuracy: 0.7265\n",
      "Epoch 4/25\n",
      "250/250 [==============================] - 62s 247ms/step - loss: 0.5250 - accuracy: 0.7321 - val_loss: 0.4912 - val_accuracy: 0.7600\n",
      "Epoch 5/25\n",
      "250/250 [==============================] - 62s 248ms/step - loss: 0.4924 - accuracy: 0.7576 - val_loss: 0.4922 - val_accuracy: 0.7725\n",
      "Epoch 6/25\n",
      "250/250 [==============================] - 61s 245ms/step - loss: 0.4697 - accuracy: 0.7763 - val_loss: 0.4784 - val_accuracy: 0.7755\n",
      "Epoch 7/25\n",
      "250/250 [==============================] - 62s 249ms/step - loss: 0.4680 - accuracy: 0.7796 - val_loss: 0.4587 - val_accuracy: 0.7935\n",
      "Epoch 8/25\n",
      "250/250 [==============================] - 60s 239ms/step - loss: 0.4394 - accuracy: 0.7901 - val_loss: 0.4764 - val_accuracy: 0.7855\n",
      "Epoch 9/25\n",
      "250/250 [==============================] - 62s 246ms/step - loss: 0.4320 - accuracy: 0.7956 - val_loss: 0.4890 - val_accuracy: 0.7795\n",
      "Epoch 10/25\n",
      "250/250 [==============================] - 60s 241ms/step - loss: 0.4086 - accuracy: 0.8172 - val_loss: 0.4531 - val_accuracy: 0.7970\n",
      "Epoch 11/25\n",
      "250/250 [==============================] - 62s 249ms/step - loss: 0.4083 - accuracy: 0.8111 - val_loss: 0.4356 - val_accuracy: 0.8095\n",
      "Epoch 12/25\n",
      "250/250 [==============================] - 61s 244ms/step - loss: 0.3720 - accuracy: 0.8266 - val_loss: 0.4395 - val_accuracy: 0.8155\n",
      "Epoch 13/25\n",
      "250/250 [==============================] - 62s 247ms/step - loss: 0.3761 - accuracy: 0.8287 - val_loss: 0.4507 - val_accuracy: 0.8015\n",
      "Epoch 14/25\n",
      "250/250 [==============================] - 60s 242ms/step - loss: 0.3598 - accuracy: 0.8420 - val_loss: 0.4484 - val_accuracy: 0.8145\n",
      "Epoch 15/25\n",
      "250/250 [==============================] - 62s 246ms/step - loss: 0.3469 - accuracy: 0.8484 - val_loss: 0.4296 - val_accuracy: 0.8220\n",
      "Epoch 16/25\n",
      "250/250 [==============================] - 61s 244ms/step - loss: 0.3397 - accuracy: 0.8536 - val_loss: 0.4927 - val_accuracy: 0.7975\n",
      "Epoch 17/25\n",
      "250/250 [==============================] - 65s 259ms/step - loss: 0.3262 - accuracy: 0.8564 - val_loss: 0.4915 - val_accuracy: 0.7970\n",
      "Epoch 18/25\n",
      "250/250 [==============================] - 69s 275ms/step - loss: 0.3154 - accuracy: 0.8577 - val_loss: 0.5360 - val_accuracy: 0.7925\n",
      "Epoch 19/25\n",
      "250/250 [==============================] - 71s 285ms/step - loss: 0.3075 - accuracy: 0.8648 - val_loss: 0.4499 - val_accuracy: 0.8155\n",
      "Epoch 20/25\n",
      "250/250 [==============================] - 72s 288ms/step - loss: 0.2883 - accuracy: 0.8756 - val_loss: 0.4726 - val_accuracy: 0.8115\n",
      "Epoch 21/25\n",
      "250/250 [==============================] - 72s 287ms/step - loss: 0.2599 - accuracy: 0.8954 - val_loss: 0.4973 - val_accuracy: 0.8030\n",
      "Epoch 22/25\n",
      "250/250 [==============================] - 73s 293ms/step - loss: 0.2507 - accuracy: 0.8963 - val_loss: 0.4818 - val_accuracy: 0.8200\n",
      "Epoch 23/25\n",
      "250/250 [==============================] - 67s 268ms/step - loss: 0.2574 - accuracy: 0.8915 - val_loss: 0.4784 - val_accuracy: 0.8105\n",
      "Epoch 24/25\n",
      "250/250 [==============================] - 62s 248ms/step - loss: 0.2250 - accuracy: 0.9100 - val_loss: 0.4797 - val_accuracy: 0.8175\n",
      "Epoch 25/25\n",
      "250/250 [==============================] - 62s 249ms/step - loss: 0.2217 - accuracy: 0.9114 - val_loss: 0.5189 - val_accuracy: 0.8185\n"
     ]
    },
    {
     "data": {
      "text/plain": [
       "<tensorflow.python.keras.callbacks.History at 0x7ffce91038b0>"
      ]
     },
     "execution_count": 32,
     "metadata": {},
     "output_type": "execute_result"
    }
   ],
   "source": [
    "cnn.fit(x = training_set, validation_data = test_set, epochs = 25) "
   ]
  },
  {
   "cell_type": "markdown",
   "id": "tribal-people",
   "metadata": {},
   "source": [
    "# Making Prediction Of Single Image"
   ]
  },
  {
   "cell_type": "code",
   "execution_count": 44,
   "id": "facial-sunglasses",
   "metadata": {},
   "outputs": [
    {
     "name": "stdout",
     "output_type": "stream",
     "text": [
      "dog\n"
     ]
    }
   ],
   "source": [
    "import numpy as np\n",
    "from keras.preprocessing import image\n",
    "test_image = image.load_img(\"./dataset/single_prediction/cat_or_dog_2.jpg\", target_size=(64, 64))\n",
    "test_image = image.img_to_array(test_image)\n",
    "test_image = np.expand_dims(test_image, axis=0)\n",
    "result = cnn.predict(test_image)\n",
    "training_set.class_indices\n",
    "if(result[0][0] == 1) :\n",
    "    prediction = \"dog\"\n",
    "else :\n",
    "    prediction = \"cat\"\n",
    "print(prediction)"
   ]
  },
  {
   "cell_type": "code",
   "execution_count": null,
   "id": "retained-speaker",
   "metadata": {},
   "outputs": [],
   "source": []
  }
 ],
 "metadata": {
  "kernelspec": {
   "display_name": "Python 3",
   "language": "python",
   "name": "python3"
  },
  "language_info": {
   "codemirror_mode": {
    "name": "ipython",
    "version": 3
   },
   "file_extension": ".py",
   "mimetype": "text/x-python",
   "name": "python",
   "nbconvert_exporter": "python",
   "pygments_lexer": "ipython3",
   "version": "3.9.1"
  }
 },
 "nbformat": 4,
 "nbformat_minor": 5
}
