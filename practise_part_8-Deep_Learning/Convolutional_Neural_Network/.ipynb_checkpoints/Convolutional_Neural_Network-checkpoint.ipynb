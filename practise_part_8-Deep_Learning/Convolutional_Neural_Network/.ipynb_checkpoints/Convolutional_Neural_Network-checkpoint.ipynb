{
 "cells": [
  {
   "cell_type": "markdown",
   "id": "ruled-camcorder",
   "metadata": {},
   "source": [
    "# Importing Libraries"
   ]
  },
  {
   "cell_type": "code",
   "execution_count": 1,
   "id": "intimate-correspondence",
   "metadata": {},
   "outputs": [
    {
     "name": "stdout",
     "output_type": "stream",
     "text": [
      "INFO:tensorflow:Enabling eager execution\n",
      "INFO:tensorflow:Enabling v2 tensorshape\n",
      "INFO:tensorflow:Enabling resource variables\n",
      "INFO:tensorflow:Enabling tensor equality\n",
      "INFO:tensorflow:Enabling control flow v2\n"
     ]
    }
   ],
   "source": [
    "import tensorflow as tf\n",
    "from keras.preprocessing.image import ImageDataGenerator"
   ]
  },
  {
   "cell_type": "code",
   "execution_count": 2,
   "id": "capital-modem",
   "metadata": {},
   "outputs": [
    {
     "data": {
      "text/plain": [
       "'2.5.0-rc1'"
      ]
     },
     "execution_count": 2,
     "metadata": {},
     "output_type": "execute_result"
    }
   ],
   "source": [
    "tf.__version__"
   ]
  },
  {
   "cell_type": "markdown",
   "id": "swiss-european",
   "metadata": {},
   "source": [
    "# Data Preprocessing"
   ]
  },
  {
   "cell_type": "markdown",
   "id": "weighted-volunteer",
   "metadata": {},
   "source": [
    "(1) Preprocessing Training Dataset "
   ]
  },
  {
   "cell_type": "code",
   "execution_count": 3,
   "id": "relative-humor",
   "metadata": {},
   "outputs": [
    {
     "name": "stdout",
     "output_type": "stream",
     "text": [
      "Found 8000 images belonging to 2 classes.\n"
     ]
    }
   ],
   "source": [
    "train_datagen = ImageDataGenerator(\n",
    "                rescale = 1. / 255,\n",
    "                shear_range = 0.2,\n",
    "                zoom_range = 0.2,\n",
    "                horizontal_flip = True)\n",
    "training_set =  train_datagen.flow_from_directory(\n",
    "                \"./dataset/training_set\",\n",
    "                target_size = (64, 64),\n",
    "                batch_size  = 32,\n",
    "                class_mode  = 'binary')"
   ]
  },
  {
   "cell_type": "markdown",
   "id": "sound-display",
   "metadata": {},
   "source": [
    "(2) Preprocessing Test Set"
   ]
  },
  {
   "cell_type": "code",
   "execution_count": 4,
   "id": "advance-scottish",
   "metadata": {},
   "outputs": [
    {
     "name": "stdout",
     "output_type": "stream",
     "text": [
      "Found 2000 images belonging to 2 classes.\n"
     ]
    }
   ],
   "source": [
    "test_datagen = ImageDataGenerator(rescale = 1. / 255)\n",
    "test_set =  test_datagen.flow_from_directory(\n",
    "            \"./dataset/test_set\",\n",
    "            target_size = (64, 64),\n",
    "            batch_size  = 32,\n",
    "            class_mode  = 'binary')"
   ]
  },
  {
   "cell_type": "markdown",
   "id": "hearing-division",
   "metadata": {},
   "source": [
    "# Building CNN Model"
   ]
  },
  {
   "cell_type": "markdown",
   "id": "whole-clarity",
   "metadata": {},
   "source": [
    "(1) Initialize CNN Model"
   ]
  },
  {
   "cell_type": "code",
   "execution_count": 5,
   "id": "valued-diamond",
   "metadata": {},
   "outputs": [],
   "source": [
    "cnn = tf.keras.models.Sequential()"
   ]
  },
  {
   "cell_type": "markdown",
   "id": "placed-canada",
   "metadata": {},
   "source": [
    "(2) Adding Convolution"
   ]
  },
  {
   "cell_type": "code",
   "execution_count": 6,
   "id": "convenient-contents",
   "metadata": {},
   "outputs": [],
   "source": [
    "cnn.add(tf.keras.layers.Conv2D(filters = 32, kernel_size = 3, activation = \"relu\", input_shape = [64, 64, 3], strides = (1, 1))) \n",
    "        "
   ]
  },
  {
   "cell_type": "code",
   "execution_count": null,
   "id": "architectural-survey",
   "metadata": {},
   "outputs": [],
   "source": []
  }
 ],
 "metadata": {
  "kernelspec": {
   "display_name": "Python 3",
   "language": "python",
   "name": "python3"
  },
  "language_info": {
   "codemirror_mode": {
    "name": "ipython",
    "version": 3
   },
   "file_extension": ".py",
   "mimetype": "text/x-python",
   "name": "python",
   "nbconvert_exporter": "python",
   "pygments_lexer": "ipython3",
   "version": "3.9.1"
  }
 },
 "nbformat": 4,
 "nbformat_minor": 5
}
