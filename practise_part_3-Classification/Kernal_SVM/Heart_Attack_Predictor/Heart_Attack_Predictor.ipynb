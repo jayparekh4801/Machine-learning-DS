{
 "cells": [
  {
   "cell_type": "markdown",
   "id": "pacific-rainbow",
   "metadata": {},
   "source": [
    "# Importing Libraries"
   ]
  },
  {
   "cell_type": "code",
   "execution_count": 1,
   "id": "technical-headquarters",
   "metadata": {},
   "outputs": [],
   "source": [
    "import numpy as np\n",
    "import pandas as pd"
   ]
  },
  {
   "cell_type": "markdown",
   "id": "centered-litigation",
   "metadata": {},
   "source": [
    "# Importing Dataset"
   ]
  },
  {
   "cell_type": "code",
   "execution_count": 2,
   "id": "infectious-tractor",
   "metadata": {},
   "outputs": [],
   "source": [
    "dataset = pd.read_csv('./heart.csv')\n",
    "independent = dataset.iloc[ : , : -1].values\n",
    "dependent = dataset.iloc[ : , -1].values"
   ]
  },
  {
   "cell_type": "markdown",
   "id": "assumed-bidding",
   "metadata": {},
   "source": [
    "# Splitting Datset Into Test Set And Train Set"
   ]
  },
  {
   "cell_type": "code",
   "execution_count": 3,
   "id": "martial-radio",
   "metadata": {},
   "outputs": [],
   "source": [
    "from sklearn.model_selection import train_test_split\n",
    "independent_train, independent_test, dependent_train, dependent_test = train_test_split(independent, dependent, test_size = 0.2, random_state = 0)"
   ]
  },
  {
   "cell_type": "markdown",
   "id": "metric-teddy",
   "metadata": {},
   "source": [
    "# Feature Scalling"
   ]
  },
  {
   "cell_type": "code",
   "execution_count": 4,
   "id": "robust-black",
   "metadata": {},
   "outputs": [],
   "source": [
    "from sklearn.preprocessing import StandardScaler\n",
    "scalar = StandardScaler()\n",
    "independent_train[ : , [0, 3, 4, 7]] = scalar.fit_transform(independent_train[ : , [0, 3, 4, 7]])\n",
    "independent_test[ : , [0, 3, 4, 7]] = scalar.transform(independent_test[ : , [0, 3, 4, 7]])"
   ]
  },
  {
   "cell_type": "markdown",
   "id": "particular-latino",
   "metadata": {},
   "source": [
    "# Training SVM Model"
   ]
  },
  {
   "cell_type": "code",
   "execution_count": 5,
   "id": "peaceful-diamond",
   "metadata": {},
   "outputs": [
    {
     "data": {
      "text/plain": [
       "SVC(random_state=0)"
      ]
     },
     "execution_count": 5,
     "metadata": {},
     "output_type": "execute_result"
    }
   ],
   "source": [
    "from sklearn.svm import SVC\n",
    "classifier = SVC(kernel = \"rbf\", random_state = 0)\n",
    "classifier.fit(independent_train, dependent_train)"
   ]
  },
  {
   "cell_type": "markdown",
   "id": "ideal-teaching",
   "metadata": {},
   "source": [
    "# Predicting Fututre Values"
   ]
  },
  {
   "cell_type": "code",
   "execution_count": 6,
   "id": "tight-cologne",
   "metadata": {},
   "outputs": [],
   "source": [
    "dependent_pred = classifier.predict(independent_test)"
   ]
  },
  {
   "cell_type": "code",
   "execution_count": 7,
   "id": "another-astrology",
   "metadata": {},
   "outputs": [
    {
     "data": {
      "text/plain": [
       "array([[0, 0],\n",
       "       [1, 1],\n",
       "       [1, 0],\n",
       "       [0, 0],\n",
       "       [0, 1],\n",
       "       [1, 0],\n",
       "       [0, 0],\n",
       "       [0, 0],\n",
       "       [0, 0],\n",
       "       [0, 0],\n",
       "       [1, 1],\n",
       "       [1, 1],\n",
       "       [0, 0],\n",
       "       [1, 1],\n",
       "       [1, 1],\n",
       "       [1, 1],\n",
       "       [0, 1],\n",
       "       [1, 1],\n",
       "       [0, 0],\n",
       "       [1, 1],\n",
       "       [1, 1],\n",
       "       [0, 0],\n",
       "       [0, 0],\n",
       "       [0, 0],\n",
       "       [1, 1],\n",
       "       [1, 0],\n",
       "       [0, 0],\n",
       "       [1, 0],\n",
       "       [1, 1],\n",
       "       [1, 1],\n",
       "       [1, 0],\n",
       "       [0, 0],\n",
       "       [1, 1],\n",
       "       [1, 1],\n",
       "       [1, 1],\n",
       "       [0, 0],\n",
       "       [0, 0],\n",
       "       [1, 1],\n",
       "       [0, 0],\n",
       "       [0, 0],\n",
       "       [1, 1],\n",
       "       [1, 1],\n",
       "       [1, 1],\n",
       "       [0, 0],\n",
       "       [1, 1],\n",
       "       [1, 1],\n",
       "       [1, 1],\n",
       "       [1, 0],\n",
       "       [0, 0],\n",
       "       [1, 1],\n",
       "       [1, 1],\n",
       "       [1, 1],\n",
       "       [1, 1],\n",
       "       [1, 1],\n",
       "       [1, 1],\n",
       "       [0, 0],\n",
       "       [1, 1],\n",
       "       [1, 0],\n",
       "       [1, 1],\n",
       "       [1, 1],\n",
       "       [1, 1]])"
      ]
     },
     "execution_count": 7,
     "metadata": {},
     "output_type": "execute_result"
    }
   ],
   "source": [
    "np.stack((dependent_pred, dependent_test), axis = 1)"
   ]
  },
  {
   "cell_type": "markdown",
   "id": "sealed-perfume",
   "metadata": {},
   "source": [
    "# Making Confusion Matrix"
   ]
  },
  {
   "cell_type": "code",
   "execution_count": 8,
   "id": "entitled-david",
   "metadata": {},
   "outputs": [
    {
     "name": "stdout",
     "output_type": "stream",
     "text": [
      "[[20  7]\n",
      " [ 2 32]]\n",
      "0.8524590163934426\n"
     ]
    }
   ],
   "source": [
    "from sklearn.metrics import confusion_matrix, accuracy_score\n",
    "cm = confusion_matrix(dependent_test, dependent_pred)\n",
    "ac = accuracy_score(dependent_test, dependent_pred)\n",
    "print(cm)\n",
    "print(ac)"
   ]
  },
  {
   "cell_type": "markdown",
   "id": "written-bearing",
   "metadata": {},
   "source": [
    "# Making Single Prediction"
   ]
  },
  {
   "cell_type": "code",
   "execution_count": 9,
   "id": "quality-commissioner",
   "metadata": {},
   "outputs": [
    {
     "data": {
      "text/plain": [
       "array([0])"
      ]
     },
     "execution_count": 9,
     "metadata": {},
     "output_type": "execute_result"
    }
   ],
   "source": [
    "test_case = np.array([[57, 0, 0, 140, 241, 0, 1, 123, 1, 0.2, 1, 0, 3]])\n",
    "test_case[ : , [0, 3, 4, 7]] = scalar.transform(test_case[ : , [0, 3, 4, 7]])\n",
    "classifier.predict(test_case)"
   ]
  },
  {
   "cell_type": "markdown",
   "id": "prospective-guidance",
   "metadata": {},
   "source": [
    "# "
   ]
  }
 ],
 "metadata": {
  "kernelspec": {
   "display_name": "Python 3",
   "language": "python",
   "name": "python3"
  },
  "language_info": {
   "codemirror_mode": {
    "name": "ipython",
    "version": 3
   },
   "file_extension": ".py",
   "mimetype": "text/x-python",
   "name": "python",
   "nbconvert_exporter": "python",
   "pygments_lexer": "ipython3",
   "version": "3.9.1"
  }
 },
 "nbformat": 4,
 "nbformat_minor": 5
}
