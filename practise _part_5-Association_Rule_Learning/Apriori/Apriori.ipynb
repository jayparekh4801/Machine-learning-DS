{
 "cells": [
  {
   "cell_type": "markdown",
   "id": "creative-curtis",
   "metadata": {},
   "source": [
    "# Importing Libraries"
   ]
  },
  {
   "cell_type": "code",
   "execution_count": 1,
   "id": "floral-farmer",
   "metadata": {},
   "outputs": [],
   "source": [
    "import numpy as np\n",
    "import pandas as pd\n",
    "import matplotlib.pyplot as plt"
   ]
  },
  {
   "cell_type": "markdown",
   "id": "comfortable-chinese",
   "metadata": {},
   "source": [
    "# Data Preprocessing"
   ]
  },
  {
   "cell_type": "code",
   "execution_count": 2,
   "id": "empty-watson",
   "metadata": {},
   "outputs": [],
   "source": [
    "dataset = pd.read_csv(\"./Market_Basket_Optimisation.csv\", header = None)\n",
    "transactions = []\n",
    "for i in dataset.index :\n",
    "        transactions.append([str(i) for i in dataset.iloc[i, : ]])\n",
    "        "
   ]
  },
  {
   "cell_type": "markdown",
   "id": "macro-functionality",
   "metadata": {},
   "source": [
    "# Training The Apriori Model"
   ]
  },
  {
   "cell_type": "code",
   "execution_count": 3,
   "id": "indoor-arbitration",
   "metadata": {},
   "outputs": [],
   "source": [
    "from apyori import apriori\n",
    "rules = apriori(transactions = transactions, min_support = 0.003, min_confidence = 0.2, min_lift = 3, min_length = 2, max_length = 2)"
   ]
  },
  {
   "cell_type": "code",
   "execution_count": 4,
   "id": "capable-colony",
   "metadata": {},
   "outputs": [],
   "source": [
    "results = list(rules)"
   ]
  },
  {
   "cell_type": "markdown",
   "id": "touched-staff",
   "metadata": {},
   "source": [
    "# Putting Result Into Pandas Well Organised Dataframe"
   ]
  },
  {
   "cell_type": "code",
   "execution_count": 5,
   "id": "varying-defendant",
   "metadata": {},
   "outputs": [],
   "source": [
    "def inspect(results) :\n",
    "    lhs         = [result[2][0][0] for result in results]\n",
    "    rhs         = [result[2][0][1] for result in results]\n",
    "    supports    = [result[1] for result in results]\n",
    "    confidences = [result[2][0][2] for result in results]\n",
    "    lifts       = [result[2][0][3] for result in results]\n",
    "    return list(zip(lhs, rhs, supports, confidences, lifts))\n",
    "\n",
    "resultDataframe = pd.DataFrame(inspect(results), columns=[\"lhs\", \"rhs\", \"supports\", \"confidences\", \"lifts\"])"
   ]
  },
  {
   "cell_type": "code",
   "execution_count": 6,
   "id": "frank-equality",
   "metadata": {},
   "outputs": [
    {
     "data": {
      "text/html": [
       "<div>\n",
       "<style scoped>\n",
       "    .dataframe tbody tr th:only-of-type {\n",
       "        vertical-align: middle;\n",
       "    }\n",
       "\n",
       "    .dataframe tbody tr th {\n",
       "        vertical-align: top;\n",
       "    }\n",
       "\n",
       "    .dataframe thead th {\n",
       "        text-align: right;\n",
       "    }\n",
       "</style>\n",
       "<table border=\"1\" class=\"dataframe\">\n",
       "  <thead>\n",
       "    <tr style=\"text-align: right;\">\n",
       "      <th></th>\n",
       "      <th>lhs</th>\n",
       "      <th>rhs</th>\n",
       "      <th>supports</th>\n",
       "      <th>confidences</th>\n",
       "      <th>lifts</th>\n",
       "    </tr>\n",
       "  </thead>\n",
       "  <tbody>\n",
       "    <tr>\n",
       "      <th>0</th>\n",
       "      <td>(light cream)</td>\n",
       "      <td>(chicken)</td>\n",
       "      <td>0.004533</td>\n",
       "      <td>0.290598</td>\n",
       "      <td>4.843951</td>\n",
       "    </tr>\n",
       "    <tr>\n",
       "      <th>1</th>\n",
       "      <td>(mushroom cream sauce)</td>\n",
       "      <td>(escalope)</td>\n",
       "      <td>0.005733</td>\n",
       "      <td>0.300699</td>\n",
       "      <td>3.790833</td>\n",
       "    </tr>\n",
       "    <tr>\n",
       "      <th>2</th>\n",
       "      <td>(pasta)</td>\n",
       "      <td>(escalope)</td>\n",
       "      <td>0.005866</td>\n",
       "      <td>0.372881</td>\n",
       "      <td>4.700812</td>\n",
       "    </tr>\n",
       "    <tr>\n",
       "      <th>3</th>\n",
       "      <td>(fromage blanc)</td>\n",
       "      <td>(honey)</td>\n",
       "      <td>0.003333</td>\n",
       "      <td>0.245098</td>\n",
       "      <td>5.164271</td>\n",
       "    </tr>\n",
       "    <tr>\n",
       "      <th>4</th>\n",
       "      <td>(herb &amp; pepper)</td>\n",
       "      <td>(ground beef)</td>\n",
       "      <td>0.015998</td>\n",
       "      <td>0.323450</td>\n",
       "      <td>3.291994</td>\n",
       "    </tr>\n",
       "    <tr>\n",
       "      <th>5</th>\n",
       "      <td>(tomato sauce)</td>\n",
       "      <td>(ground beef)</td>\n",
       "      <td>0.005333</td>\n",
       "      <td>0.377358</td>\n",
       "      <td>3.840659</td>\n",
       "    </tr>\n",
       "    <tr>\n",
       "      <th>6</th>\n",
       "      <td>(light cream)</td>\n",
       "      <td>(olive oil)</td>\n",
       "      <td>0.003200</td>\n",
       "      <td>0.205128</td>\n",
       "      <td>3.114710</td>\n",
       "    </tr>\n",
       "    <tr>\n",
       "      <th>7</th>\n",
       "      <td>(whole wheat pasta)</td>\n",
       "      <td>(olive oil)</td>\n",
       "      <td>0.007999</td>\n",
       "      <td>0.271493</td>\n",
       "      <td>4.122410</td>\n",
       "    </tr>\n",
       "    <tr>\n",
       "      <th>8</th>\n",
       "      <td>(pasta)</td>\n",
       "      <td>(shrimp)</td>\n",
       "      <td>0.005066</td>\n",
       "      <td>0.322034</td>\n",
       "      <td>4.506672</td>\n",
       "    </tr>\n",
       "  </tbody>\n",
       "</table>\n",
       "</div>"
      ],
      "text/plain": [
       "                      lhs            rhs  supports  confidences     lifts\n",
       "0           (light cream)      (chicken)  0.004533     0.290598  4.843951\n",
       "1  (mushroom cream sauce)     (escalope)  0.005733     0.300699  3.790833\n",
       "2                 (pasta)     (escalope)  0.005866     0.372881  4.700812\n",
       "3         (fromage blanc)        (honey)  0.003333     0.245098  5.164271\n",
       "4         (herb & pepper)  (ground beef)  0.015998     0.323450  3.291994\n",
       "5          (tomato sauce)  (ground beef)  0.005333     0.377358  3.840659\n",
       "6           (light cream)    (olive oil)  0.003200     0.205128  3.114710\n",
       "7     (whole wheat pasta)    (olive oil)  0.007999     0.271493  4.122410\n",
       "8                 (pasta)       (shrimp)  0.005066     0.322034  4.506672"
      ]
     },
     "execution_count": 6,
     "metadata": {},
     "output_type": "execute_result"
    }
   ],
   "source": [
    "resultDataframe"
   ]
  },
  {
   "cell_type": "markdown",
   "id": "formal-january",
   "metadata": {},
   "source": [
    "# Displaying The Results Sorted By Decending Order "
   ]
  },
  {
   "cell_type": "code",
   "execution_count": 7,
   "id": "tender-valentine",
   "metadata": {},
   "outputs": [
    {
     "data": {
      "text/html": [
       "<div>\n",
       "<style scoped>\n",
       "    .dataframe tbody tr th:only-of-type {\n",
       "        vertical-align: middle;\n",
       "    }\n",
       "\n",
       "    .dataframe tbody tr th {\n",
       "        vertical-align: top;\n",
       "    }\n",
       "\n",
       "    .dataframe thead th {\n",
       "        text-align: right;\n",
       "    }\n",
       "</style>\n",
       "<table border=\"1\" class=\"dataframe\">\n",
       "  <thead>\n",
       "    <tr style=\"text-align: right;\">\n",
       "      <th></th>\n",
       "      <th>lhs</th>\n",
       "      <th>rhs</th>\n",
       "      <th>supports</th>\n",
       "      <th>confidences</th>\n",
       "      <th>lifts</th>\n",
       "    </tr>\n",
       "  </thead>\n",
       "  <tbody>\n",
       "    <tr>\n",
       "      <th>3</th>\n",
       "      <td>(fromage blanc)</td>\n",
       "      <td>(honey)</td>\n",
       "      <td>0.003333</td>\n",
       "      <td>0.245098</td>\n",
       "      <td>5.164271</td>\n",
       "    </tr>\n",
       "    <tr>\n",
       "      <th>0</th>\n",
       "      <td>(light cream)</td>\n",
       "      <td>(chicken)</td>\n",
       "      <td>0.004533</td>\n",
       "      <td>0.290598</td>\n",
       "      <td>4.843951</td>\n",
       "    </tr>\n",
       "    <tr>\n",
       "      <th>2</th>\n",
       "      <td>(pasta)</td>\n",
       "      <td>(escalope)</td>\n",
       "      <td>0.005866</td>\n",
       "      <td>0.372881</td>\n",
       "      <td>4.700812</td>\n",
       "    </tr>\n",
       "    <tr>\n",
       "      <th>8</th>\n",
       "      <td>(pasta)</td>\n",
       "      <td>(shrimp)</td>\n",
       "      <td>0.005066</td>\n",
       "      <td>0.322034</td>\n",
       "      <td>4.506672</td>\n",
       "    </tr>\n",
       "    <tr>\n",
       "      <th>7</th>\n",
       "      <td>(whole wheat pasta)</td>\n",
       "      <td>(olive oil)</td>\n",
       "      <td>0.007999</td>\n",
       "      <td>0.271493</td>\n",
       "      <td>4.122410</td>\n",
       "    </tr>\n",
       "    <tr>\n",
       "      <th>5</th>\n",
       "      <td>(tomato sauce)</td>\n",
       "      <td>(ground beef)</td>\n",
       "      <td>0.005333</td>\n",
       "      <td>0.377358</td>\n",
       "      <td>3.840659</td>\n",
       "    </tr>\n",
       "    <tr>\n",
       "      <th>1</th>\n",
       "      <td>(mushroom cream sauce)</td>\n",
       "      <td>(escalope)</td>\n",
       "      <td>0.005733</td>\n",
       "      <td>0.300699</td>\n",
       "      <td>3.790833</td>\n",
       "    </tr>\n",
       "    <tr>\n",
       "      <th>4</th>\n",
       "      <td>(herb &amp; pepper)</td>\n",
       "      <td>(ground beef)</td>\n",
       "      <td>0.015998</td>\n",
       "      <td>0.323450</td>\n",
       "      <td>3.291994</td>\n",
       "    </tr>\n",
       "    <tr>\n",
       "      <th>6</th>\n",
       "      <td>(light cream)</td>\n",
       "      <td>(olive oil)</td>\n",
       "      <td>0.003200</td>\n",
       "      <td>0.205128</td>\n",
       "      <td>3.114710</td>\n",
       "    </tr>\n",
       "  </tbody>\n",
       "</table>\n",
       "</div>"
      ],
      "text/plain": [
       "                      lhs            rhs  supports  confidences     lifts\n",
       "3         (fromage blanc)        (honey)  0.003333     0.245098  5.164271\n",
       "0           (light cream)      (chicken)  0.004533     0.290598  4.843951\n",
       "2                 (pasta)     (escalope)  0.005866     0.372881  4.700812\n",
       "8                 (pasta)       (shrimp)  0.005066     0.322034  4.506672\n",
       "7     (whole wheat pasta)    (olive oil)  0.007999     0.271493  4.122410\n",
       "5          (tomato sauce)  (ground beef)  0.005333     0.377358  3.840659\n",
       "1  (mushroom cream sauce)     (escalope)  0.005733     0.300699  3.790833\n",
       "4         (herb & pepper)  (ground beef)  0.015998     0.323450  3.291994\n",
       "6           (light cream)    (olive oil)  0.003200     0.205128  3.114710"
      ]
     },
     "execution_count": 7,
     "metadata": {},
     "output_type": "execute_result"
    }
   ],
   "source": [
    "resultDataframe.nlargest(n = 10, columns=\"lifts\")"
   ]
  },
  {
   "cell_type": "code",
   "execution_count": null,
   "id": "bridal-latter",
   "metadata": {},
   "outputs": [],
   "source": []
  }
 ],
 "metadata": {
  "kernelspec": {
   "display_name": "Python 3",
   "language": "python",
   "name": "python3"
  },
  "language_info": {
   "codemirror_mode": {
    "name": "ipython",
    "version": 3
   },
   "file_extension": ".py",
   "mimetype": "text/x-python",
   "name": "python",
   "nbconvert_exporter": "python",
   "pygments_lexer": "ipython3",
   "version": "3.9.1"
  }
 },
 "nbformat": 4,
 "nbformat_minor": 5
}
