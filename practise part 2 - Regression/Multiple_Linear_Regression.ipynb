{
 "cells": [
  {
   "cell_type": "markdown",
   "id": "pending-rubber",
   "metadata": {},
   "source": [
    "# Importing Libraries"
   ]
  },
  {
   "cell_type": "code",
   "execution_count": 1,
   "id": "minimal-assist",
   "metadata": {},
   "outputs": [],
   "source": [
    "import numpy as np\n",
    "import pandas as pd\n",
    "import matplotlib.pyplot as plt"
   ]
  },
  {
   "cell_type": "markdown",
   "id": "favorite-winner",
   "metadata": {},
   "source": [
    "# Importing Datasets"
   ]
  },
  {
   "cell_type": "code",
   "execution_count": 2,
   "id": "handled-chapter",
   "metadata": {},
   "outputs": [],
   "source": [
    "dataset = pd.read_csv(\"/Users/jayparekh/Documents/machine_learning_dataScience/Machine Learning A-Z (Codes and Datasets)/Part 2 - Regression/Section 5 - Multiple Linear Regression/Python/50_Startups.csv\")\n",
    "independent = dataset.iloc[ : , : -1].values\n",
    "dependent = dataset.iloc[ : , -1].values"
   ]
  },
  {
   "cell_type": "code",
   "execution_count": 3,
   "id": "worth-bulletin",
   "metadata": {},
   "outputs": [
    {
     "data": {
      "text/plain": [
       "array([[165349.2, 136897.8, 471784.1, 'New York'],\n",
       "       [162597.7, 151377.59, 443898.53, 'California'],\n",
       "       [153441.51, 101145.55, 407934.54, 'Florida'],\n",
       "       [144372.41, 118671.85, 383199.62, 'New York'],\n",
       "       [142107.34, 91391.77, 366168.42, 'Florida'],\n",
       "       [131876.9, 99814.71, 362861.36, 'New York'],\n",
       "       [134615.46, 147198.87, 127716.82, 'California'],\n",
       "       [130298.13, 145530.06, 323876.68, 'Florida'],\n",
       "       [120542.52, 148718.95, 311613.29, 'New York'],\n",
       "       [123334.88, 108679.17, 304981.62, 'California'],\n",
       "       [101913.08, 110594.11, 229160.95, 'Florida'],\n",
       "       [100671.96, 91790.61, 249744.55, 'California'],\n",
       "       [93863.75, 127320.38, 249839.44, 'Florida'],\n",
       "       [91992.39, 135495.07, 252664.93, 'California'],\n",
       "       [119943.24, 156547.42, 256512.92, 'Florida'],\n",
       "       [114523.61, 122616.84, 261776.23, 'New York'],\n",
       "       [78013.11, 121597.55, 264346.06, 'California'],\n",
       "       [94657.16, 145077.58, 282574.31, 'New York'],\n",
       "       [91749.16, 114175.79, 294919.57, 'Florida'],\n",
       "       [86419.7, 153514.11, 0.0, 'New York'],\n",
       "       [76253.86, 113867.3, 298664.47, 'California'],\n",
       "       [78389.47, 153773.43, 299737.29, 'New York'],\n",
       "       [73994.56, 122782.75, 303319.26, 'Florida'],\n",
       "       [67532.53, 105751.03, 304768.73, 'Florida'],\n",
       "       [77044.01, 99281.34, 140574.81, 'New York'],\n",
       "       [64664.71, 139553.16, 137962.62, 'California'],\n",
       "       [75328.87, 144135.98, 134050.07, 'Florida'],\n",
       "       [72107.6, 127864.55, 353183.81, 'New York'],\n",
       "       [66051.52, 182645.56, 118148.2, 'Florida'],\n",
       "       [65605.48, 153032.06, 107138.38, 'New York'],\n",
       "       [61994.48, 115641.28, 91131.24, 'Florida'],\n",
       "       [61136.38, 152701.92, 88218.23, 'New York'],\n",
       "       [63408.86, 129219.61, 46085.25, 'California'],\n",
       "       [55493.95, 103057.49, 214634.81, 'Florida'],\n",
       "       [46426.07, 157693.92, 210797.67, 'California'],\n",
       "       [46014.02, 85047.44, 205517.64, 'New York'],\n",
       "       [28663.76, 127056.21, 201126.82, 'Florida'],\n",
       "       [44069.95, 51283.14, 197029.42, 'California'],\n",
       "       [20229.59, 65947.93, 185265.1, 'New York'],\n",
       "       [38558.51, 82982.09, 174999.3, 'California'],\n",
       "       [28754.33, 118546.05, 172795.67, 'California'],\n",
       "       [27892.92, 84710.77, 164470.71, 'Florida'],\n",
       "       [23640.93, 96189.63, 148001.11, 'California'],\n",
       "       [15505.73, 127382.3, 35534.17, 'New York'],\n",
       "       [22177.74, 154806.14, 28334.72, 'California'],\n",
       "       [1000.23, 124153.04, 1903.93, 'New York'],\n",
       "       [1315.46, 115816.21, 297114.46, 'Florida'],\n",
       "       [0.0, 135426.92, 0.0, 'California'],\n",
       "       [542.05, 51743.15, 0.0, 'New York'],\n",
       "       [0.0, 116983.8, 45173.06, 'California']], dtype=object)"
      ]
     },
     "execution_count": 3,
     "metadata": {},
     "output_type": "execute_result"
    }
   ],
   "source": [
    "independent"
   ]
  },
  {
   "cell_type": "markdown",
   "id": "sublime-injury",
   "metadata": {},
   "source": [
    "# Handelling Null Values"
   ]
  },
  {
   "cell_type": "code",
   "execution_count": 4,
   "id": "engaged-moral",
   "metadata": {},
   "outputs": [],
   "source": [
    "from sklearn.impute import SimpleImputer\n",
    "imputer = SimpleImputer(missing_values=np.nan, strategy=\"mean\")\n",
    "imputer.fit(independent[ : , : -1])\n",
    "independent[ : , : -1] = imputer.transform(independent[ : , : -1])"
   ]
  },
  {
   "cell_type": "markdown",
   "id": "forward-telephone",
   "metadata": {},
   "source": [
    "# Encoding Categorical Data Into Numeric Data"
   ]
  },
  {
   "cell_type": "code",
   "execution_count": 5,
   "id": "irish-inspection",
   "metadata": {},
   "outputs": [],
   "source": [
    "from sklearn.compose import ColumnTransformer\n",
    "from sklearn.preprocessing import OneHotEncoder\n",
    "ct = ColumnTransformer(transformers=[(\"encoder\", OneHotEncoder(), [3])], remainder = \"passthrough\")\n",
    "independent = np.array(ct.fit_transform(independent))"
   ]
  },
  {
   "cell_type": "markdown",
   "id": "lesser-jason",
   "metadata": {},
   "source": [
    "# Splittig Dataset Into Trainnig Set And Test Set "
   ]
  },
  {
   "cell_type": "code",
   "execution_count": 6,
   "id": "recognized-seeker",
   "metadata": {},
   "outputs": [],
   "source": [
    "from sklearn.model_selection import train_test_split\n",
    "independent_train, independent_test , dependent_train, dependent_test = train_test_split(independent, dependent, test_size=0.2, random_state=0)"
   ]
  },
  {
   "cell_type": "markdown",
   "id": "absent-participation",
   "metadata": {},
   "source": [
    "# Making Multiple Regression Model From Training Set"
   ]
  },
  {
   "cell_type": "code",
   "execution_count": 7,
   "id": "lesser-superintendent",
   "metadata": {},
   "outputs": [
    {
     "data": {
      "text/plain": [
       "LinearRegression()"
      ]
     },
     "execution_count": 7,
     "metadata": {},
     "output_type": "execute_result"
    }
   ],
   "source": [
    "from sklearn.linear_model import LinearRegression\n",
    "regressor = LinearRegression()\n",
    "regressor.fit(independent_train, dependent_train)"
   ]
  },
  {
   "cell_type": "markdown",
   "id": "presidential-likelihood",
   "metadata": {},
   "source": [
    "# Predicting Test Set Values"
   ]
  },
  {
   "cell_type": "code",
   "execution_count": 8,
   "id": "norwegian-tennessee",
   "metadata": {},
   "outputs": [],
   "source": [
    "dependent_pred = regressor.predict(independent_test)"
   ]
  },
  {
   "cell_type": "markdown",
   "id": "needed-illustration",
   "metadata": {},
   "source": [
    "# Visualising Predicted Values"
   ]
  },
  {
   "cell_type": "code",
   "execution_count": 9,
   "id": "funny-community",
   "metadata": {},
   "outputs": [
    {
     "name": "stdout",
     "output_type": "stream",
     "text": [
      "[[103282.38       103015.20159795]\n",
      " [144259.4        132582.27760816]\n",
      " [146121.95       132447.73845175]\n",
      " [ 77798.83        71976.09851258]\n",
      " [191050.39       178537.48221057]\n",
      " [105008.31       116161.24230167]\n",
      " [ 81229.06        67851.69209676]\n",
      " [ 97483.56        98791.73374687]\n",
      " [110352.25       113969.43533014]\n",
      " [166187.94       167921.06569552]]\n"
     ]
    }
   ],
   "source": [
    "print(np.concatenate((dependent_test.reshape(len(dependent_test), 1),dependent_pred.reshape(len(dependent_pred), 1)), axis = 1))\n"
   ]
  },
  {
   "cell_type": "code",
   "execution_count": 10,
   "id": "familiar-navigator",
   "metadata": {},
   "outputs": [
    {
     "name": "stdout",
     "output_type": "stream",
     "text": [
      "[[  267.17840205]\n",
      " [11677.12239184]\n",
      " [13674.21154825]\n",
      " [ 5822.73148742]\n",
      " [12512.90778943]\n",
      " [11152.93230167]\n",
      " [13377.36790324]\n",
      " [ 1308.17374687]\n",
      " [ 3617.18533014]\n",
      " [ 1733.12569552]]\n"
     ]
    }
   ],
   "source": [
    "pred_test_diff = abs(dependent_pred - dependent_test)\n",
    "print(pred_test_diff.reshape(len(pred_test_diff), 1))"
   ]
  },
  {
   "cell_type": "code",
   "execution_count": null,
   "id": "differential-party",
   "metadata": {},
   "outputs": [],
   "source": [
    "from sklearn.metrics import "
   ]
  }
 ],
 "metadata": {
  "kernelspec": {
   "display_name": "Python 3",
   "language": "python",
   "name": "python3"
  },
  "language_info": {
   "codemirror_mode": {
    "name": "ipython",
    "version": 3
   },
   "file_extension": ".py",
   "mimetype": "text/x-python",
   "name": "python",
   "nbconvert_exporter": "python",
   "pygments_lexer": "ipython3",
   "version": "3.9.1"
  }
 },
 "nbformat": 4,
 "nbformat_minor": 5
}
