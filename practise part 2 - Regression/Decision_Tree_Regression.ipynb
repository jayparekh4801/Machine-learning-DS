{
 "cells": [
  {
   "cell_type": "markdown",
   "id": "satellite-omaha",
   "metadata": {},
   "source": [
    "# Importing Libraries"
   ]
  },
  {
   "cell_type": "code",
   "execution_count": 1,
   "id": "flying-smoke",
   "metadata": {},
   "outputs": [],
   "source": [
    "import numpy as np\n",
    "import pandas as pd\n",
    "import matplotlib.pyplot as plt"
   ]
  },
  {
   "cell_type": "markdown",
   "id": "seeing-telephone",
   "metadata": {},
   "source": [
    "# Importing Dataset"
   ]
  },
  {
   "cell_type": "code",
   "execution_count": 2,
   "id": "under-afternoon",
   "metadata": {},
   "outputs": [],
   "source": [
    "dataset = pd.read_csv(\"/Users/jayparekh/Documents/machine_learning_dataScience/Machine Learning A-Z (Codes and Datasets)/Part 2 - Regression/Section 8 - Decision Tree Regression/Python/Position_Salaries.csv\")\n",
    "independent = dataset.iloc[ : , 1 : -1].values\n",
    "dependent = dataset.iloc[ : , -1 : ].values"
   ]
  },
  {
   "cell_type": "markdown",
   "id": "lesser-belle",
   "metadata": {},
   "source": [
    "# Making Decision Tree Regression Model From Whole Dataset"
   ]
  },
  {
   "cell_type": "code",
   "execution_count": 3,
   "id": "hollywood-slide",
   "metadata": {},
   "outputs": [
    {
     "data": {
      "text/plain": [
       "DecisionTreeRegressor(random_state=0)"
      ]
     },
     "execution_count": 3,
     "metadata": {},
     "output_type": "execute_result"
    }
   ],
   "source": [
    "from sklearn.tree import DecisionTreeRegressor\n",
    "regressor = DecisionTreeRegressor(random_state=0)\n",
    "regressor.fit(independent, dependent)"
   ]
  },
  {
   "cell_type": "code",
   "execution_count": 4,
   "id": "warming-queue",
   "metadata": {},
   "outputs": [
    {
     "data": {
      "text/plain": [
       "array([150000.])"
      ]
     },
     "execution_count": 4,
     "metadata": {},
     "output_type": "execute_result"
    }
   ],
   "source": [
    "regressor.predict([[6.5]])"
   ]
  },
  {
   "cell_type": "markdown",
   "id": "third-nicaragua",
   "metadata": {},
   "source": [
    "# Visualising Decision Tree Regeression Model"
   ]
  },
  {
   "cell_type": "code",
   "execution_count": 6,
   "id": "written-parker",
   "metadata": {},
   "outputs": [
    {
     "data": {
      "image/png": "[encoded data removed]",
      "text/plain": [
       "<Figure size 432x288 with 1 Axes>"
      ]
     },
     "metadata": {
      "needs_background": "light"
     },
     "output_type": "display_data"
    }
   ],
   "source": [
    "dependent_pred = regressor.predict(independent)\n",
    "plt.scatter(independent, dependent, color = \"red\")\n",
    "plt.plot(independent, dependent_pred, color = \"blue\")\n",
    "plt.title(\"Bluff Or Truth Of Salaries(using Decision Tree Regression)\")\n",
    "plt.xlabel(\"Levels\")\n",
    "plt.ylabel(\"Salaries\")\n",
    "plt.show()"
   ]
  },
  {
   "cell_type": "code",
   "execution_count": null,
   "id": "approved-sunrise",
   "metadata": {},
   "outputs": [],
   "source": []
  }
 ],
 "metadata": {
  "kernelspec": {
   "display_name": "Python 3",
   "language": "python",
   "name": "python3"
  },
  "language_info": {
   "codemirror_mode": {
    "name": "ipython",
    "version": 3
   },
   "file_extension": ".py",
   "mimetype": "text/x-python",
   "name": "python",
   "nbconvert_exporter": "python",
   "pygments_lexer": "ipython3",
   "version": "3.9.1"
  }
 },
 "nbformat": 4,
 "nbformat_minor": 5
}
