{
 "cells": [
  {
   "cell_type": "markdown",
   "id": "lesser-amount",
   "metadata": {},
   "source": [
    "# Importing Libraries"
   ]
  },
  {
   "cell_type": "code",
   "execution_count": 1,
   "id": "indirect-sussex",
   "metadata": {},
   "outputs": [],
   "source": [
    "import numpy as np\n",
    "import pandas as pd\n",
    "import matplotlib.pyplot as plt"
   ]
  },
  {
   "cell_type": "markdown",
   "id": "geographic-uzbekistan",
   "metadata": {},
   "source": [
    "# Importing Datasets"
   ]
  },
  {
   "cell_type": "code",
   "execution_count": 2,
   "id": "disciplinary-massage",
   "metadata": {},
   "outputs": [],
   "source": [
    "dataset = pd.read_csv(\"/Users/jayparekh/Documents/machine_learning_dataScience/Machine Learning A-Z (Codes and Datasets)/Part 2 - Regression/Section 7 - Support Vector Regression (SVR)/python/Position_Salaries.csv\")\n",
    "independent = dataset.iloc[ : , 1: -1].values\n",
    "dependent = dataset.iloc[ : , -1].values"
   ]
  },
  {
   "cell_type": "code",
   "execution_count": 3,
   "id": "administrative-murder",
   "metadata": {},
   "outputs": [
    {
     "name": "stdout",
     "output_type": "stream",
     "text": [
      "[[ 1]\n",
      " [ 2]\n",
      " [ 3]\n",
      " [ 4]\n",
      " [ 5]\n",
      " [ 6]\n",
      " [ 7]\n",
      " [ 8]\n",
      " [ 9]\n",
      " [10]]\n"
     ]
    }
   ],
   "source": [
    "print(independent)"
   ]
  },
  {
   "cell_type": "code",
   "execution_count": 4,
   "id": "naval-chicken",
   "metadata": {},
   "outputs": [
    {
     "name": "stdout",
     "output_type": "stream",
     "text": [
      "[  45000   50000   60000   80000  110000  150000  200000  300000  500000\n",
      " 1000000]\n"
     ]
    }
   ],
   "source": [
    "print(dependent)"
   ]
  },
  {
   "cell_type": "markdown",
   "id": "buried-correspondence",
   "metadata": {},
   "source": [
    "# Feature Scalling"
   ]
  },
  {
   "cell_type": "code",
   "execution_count": 5,
   "id": "warming-democracy",
   "metadata": {},
   "outputs": [],
   "source": [
    "from sklearn.preprocessing import StandardScaler\n",
    "scalar_inde = StandardScaler()\n",
    "scalar_depe = StandardScaler()\n",
    "independent = scalar_inde.fit_transform(independent)\n",
    "dependent = scalar_depe.fit_transform(dependent.reshape(len(dependent), 1))"
   ]
  },
  {
   "cell_type": "code",
   "execution_count": 6,
   "id": "wrapped-beverage",
   "metadata": {},
   "outputs": [
    {
     "name": "stdout",
     "output_type": "stream",
     "text": [
      "[[-1.5666989 ]\n",
      " [-1.21854359]\n",
      " [-0.87038828]\n",
      " [-0.52223297]\n",
      " [-0.17407766]\n",
      " [ 0.17407766]\n",
      " [ 0.52223297]\n",
      " [ 0.87038828]\n",
      " [ 1.21854359]\n",
      " [ 1.5666989 ]]\n"
     ]
    }
   ],
   "source": [
    "print(independent)"
   ]
  },
  {
   "cell_type": "code",
   "execution_count": 7,
   "id": "requested-gross",
   "metadata": {},
   "outputs": [
    {
     "name": "stdout",
     "output_type": "stream",
     "text": [
      "[[-0.72004253]\n",
      " [-0.70243757]\n",
      " [-0.66722767]\n",
      " [-0.59680786]\n",
      " [-0.49117815]\n",
      " [-0.35033854]\n",
      " [-0.17428902]\n",
      " [ 0.17781001]\n",
      " [ 0.88200808]\n",
      " [ 2.64250325]]\n"
     ]
    }
   ],
   "source": [
    "print(dependent)"
   ]
  },
  {
   "cell_type": "markdown",
   "id": "delayed-speech",
   "metadata": {},
   "source": [
    "# Making SVR Model From Dataset"
   ]
  },
  {
   "cell_type": "code",
   "execution_count": 8,
   "id": "sexual-toyota",
   "metadata": {},
   "outputs": [
    {
     "name": "stderr",
     "output_type": "stream",
     "text": [
      "/Library/Frameworks/Python.framework/Versions/3.9/lib/python3.9/site-packages/sklearn/utils/validation.py:63: DataConversionWarning: A column-vector y was passed when a 1d array was expected. Please change the shape of y to (n_samples, ), for example using ravel().\n",
      "  return f(*args, **kwargs)\n"
     ]
    },
    {
     "data": {
      "text/plain": [
       "SVR()"
      ]
     },
     "execution_count": 8,
     "metadata": {},
     "output_type": "execute_result"
    }
   ],
   "source": [
    "from sklearn.svm import SVR\n",
    "regressor = SVR(kernel=\"rbf\")\n",
    "regressor.fit(independent, dependent)"
   ]
  },
  {
   "cell_type": "code",
   "execution_count": 9,
   "id": "effective-brown",
   "metadata": {},
   "outputs": [
    {
     "data": {
      "text/plain": [
       "array([170370.0204065])"
      ]
     },
     "execution_count": 9,
     "metadata": {},
     "output_type": "execute_result"
    }
   ],
   "source": [
    "scalar_depe.inverse_transform(regressor.predict(scalar_inde.transform([[6.5]])))"
   ]
  },
  {
   "cell_type": "markdown",
   "id": "independent-federation",
   "metadata": {},
   "source": [
    "# High Resolution Visualisation Of SVR Model"
   ]
  },
  {
   "cell_type": "code",
   "execution_count": 10,
   "id": "understood-multiple",
   "metadata": {},
   "outputs": [
    {
     "data": {
      "image/png": "[encoded data removed]",
      "text/plain": [
       "<Figure size 432x288 with 1 Axes>"
      ]
     },
     "metadata": {
      "needs_background": "light"
     },
     "output_type": "display_data"
    }
   ],
   "source": [
    "independent_grid = np.arange(min(scalar_inde.inverse_transform(independent)), max(scalar_inde.inverse_transform(independent)), 0.1)\n",
    "dependent_pred_grid = scalar_depe.inverse_transform(regressor.predict(scalar_inde.transform(independent_grid.reshape(len(independent_grid), 1))))\n",
    "plt.scatter(scalar_inde.inverse_transform(independent), scalar_depe.inverse_transform(dependent), color = \"red\")\n",
    "plt.plot(independent_grid, dependent_pred_grid, color = \"blue\")\n",
    "plt.title(\"bluff or truth on salaries(using SVR)\")\n",
    "plt.xlabel(\"Levels\")\n",
    "plt.ylabel(\"Salaries\")\n",
    "plt.show()"
   ]
  }
 ],
 "metadata": {
  "kernelspec": {
   "display_name": "Python 3",
   "language": "python",
   "name": "python3"
  },
  "language_info": {
   "codemirror_mode": {
    "name": "ipython",
    "version": 3
   },
   "file_extension": ".py",
   "mimetype": "text/x-python",
   "name": "python",
   "nbconvert_exporter": "python",
   "pygments_lexer": "ipython3",
   "version": "3.9.1"
  }
 },
 "nbformat": 4,
 "nbformat_minor": 5
}
