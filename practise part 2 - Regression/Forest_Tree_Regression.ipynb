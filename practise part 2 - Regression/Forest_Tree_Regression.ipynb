{
 "cells": [
  {
   "cell_type": "markdown",
   "id": "prepared-multiple",
   "metadata": {},
   "source": [
    "# Importing Libraries"
   ]
  },
  {
   "cell_type": "code",
   "execution_count": 1,
   "id": "broken-healing",
   "metadata": {},
   "outputs": [],
   "source": [
    "import numpy as np\n",
    "import pandas as pd\n",
    "import matplotlib.pyplot as plt"
   ]
  },
  {
   "cell_type": "markdown",
   "id": "helpful-cholesterol",
   "metadata": {},
   "source": [
    "# Import Dataset"
   ]
  },
  {
   "cell_type": "code",
   "execution_count": 2,
   "id": "democratic-tenant",
   "metadata": {},
   "outputs": [],
   "source": [
    "dataset = pd.read_csv(\"/Users/jayparekh/Documents/machine_learning_dataScience/Machine Learning A-Z (Codes and Datasets)/Part 2 - Regression/Section 9 - Random Forest Regression/Python/Position_Salaries.csv\")\n",
    "independent = dataset.iloc[ : , 1 : -1]\n",
    "dependent = dataset.iloc[ : , -1]"
   ]
  },
  {
   "cell_type": "markdown",
   "id": "established-coaching",
   "metadata": {},
   "source": [
    "# Taking Care Of Missing Data"
   ]
  },
  {
   "cell_type": "code",
   "execution_count": 3,
   "id": "peripheral-retrieval",
   "metadata": {},
   "outputs": [],
   "source": [
    "from sklearn.impute import SimpleImputer\n",
    "imputer = SimpleImputer(missing_values=np.nan, strategy=\"mean\")\n",
    "independent = imputer.fit_transform(independent)"
   ]
  },
  {
   "cell_type": "markdown",
   "id": "australian-purple",
   "metadata": {},
   "source": [
    "# Making Forest Tree Regression Model"
   ]
  },
  {
   "cell_type": "code",
   "execution_count": 4,
   "id": "unsigned-november",
   "metadata": {},
   "outputs": [
    {
     "data": {
      "text/plain": [
       "RandomForestRegressor(n_estimators=10, random_state=0)"
      ]
     },
     "execution_count": 4,
     "metadata": {},
     "output_type": "execute_result"
    }
   ],
   "source": [
    "from sklearn.ensemble import RandomForestRegressor\n",
    "regressor = RandomForestRegressor(n_estimators=10, random_state=0)\n",
    "regressor.fit(independent, dependent)"
   ]
  },
  {
   "cell_type": "code",
   "execution_count": 5,
   "id": "clinical-vatican",
   "metadata": {},
   "outputs": [
    {
     "data": {
      "text/plain": [
       "array([167000.])"
      ]
     },
     "execution_count": 5,
     "metadata": {},
     "output_type": "execute_result"
    }
   ],
   "source": [
    "regressor.predict([[6.5]])"
   ]
  },
  {
   "cell_type": "markdown",
   "id": "accomplished-logistics",
   "metadata": {},
   "source": [
    "# Visualising Forest Tree REgression Model"
   ]
  },
  {
   "cell_type": "code",
   "execution_count": 6,
   "id": "domestic-republic",
   "metadata": {},
   "outputs": [
    {
     "data": {
      "image/png": "[encoded data removed]",
      "text/plain": [
       "<Figure size 432x288 with 1 Axes>"
      ]
     },
     "metadata": {
      "needs_background": "light"
     },
     "output_type": "display_data"
    }
   ],
   "source": [
    "dependent_pred = regressor.predict(independent)\n",
    "plt.scatter(independent, dependent, color = \"red\")\n",
    "plt.plot(independent, dependent_pred, color = \"blue\")\n",
    "plt.title(\"Bluff Or Truth Of Salaries(using Forest Tree Regression)\")\n",
    "plt.xlabel(\"Levels\")\n",
    "plt.ylabel(\"Salaries\")\n",
    "plt.show()"
   ]
  }
 ],
 "metadata": {
  "kernelspec": {
   "display_name": "Python 3",
   "language": "python",
   "name": "python3"
  },
  "language_info": {
   "codemirror_mode": {
    "name": "ipython",
    "version": 3
   },
   "file_extension": ".py",
   "mimetype": "text/x-python",
   "name": "python",
   "nbconvert_exporter": "python",
   "pygments_lexer": "ipython3",
   "version": "3.9.1"
  }
 },
 "nbformat": 4,
 "nbformat_minor": 5
}
