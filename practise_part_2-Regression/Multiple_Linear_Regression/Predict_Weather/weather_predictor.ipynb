{
 "cells": [
  {
   "cell_type": "markdown",
   "id": "visible-gathering",
   "metadata": {},
   "source": [
    "# Importing Libraries"
   ]
  },
  {
   "cell_type": "code",
   "execution_count": 1,
   "id": "comfortable-nickname",
   "metadata": {},
   "outputs": [],
   "source": [
    "import numpy as np\n",
    "import pandas as pd\n",
    "import matplotlib.pyplot as plt"
   ]
  },
  {
   "cell_type": "markdown",
   "id": "expected-internet",
   "metadata": {},
   "source": [
    "# Importing dataset "
   ]
  },
  {
   "cell_type": "code",
   "execution_count": 2,
   "id": "incoming-examination",
   "metadata": {},
   "outputs": [],
   "source": [
    "dataset = pd.read_excel(\"./AirQualityUCI.xlsx\")"
   ]
  },
  {
   "cell_type": "code",
   "execution_count": 3,
   "id": "geographic-characterization",
   "metadata": {},
   "outputs": [],
   "source": [
    "import datetime as dt\n",
    "import time\n",
    "dataset[\"Date\"] = pd.to_datetime(dataset[\"Date\"])\n",
    "dataset['Date'] = dataset['Date'].map(dt.datetime.toordinal)\n"
   ]
  },
  {
   "cell_type": "code",
   "execution_count": 4,
   "id": "yellow-munich",
   "metadata": {},
   "outputs": [],
   "source": [
    "dataset = dataset.drop([\"Time\"], axis = 1)"
   ]
  },
  {
   "cell_type": "code",
   "execution_count": 5,
   "id": "backed-jenny",
   "metadata": {},
   "outputs": [],
   "source": [
    "independent = dataset.iloc[ : , : 11].values\n",
    "dependent = dataset.iloc[ : , 11 : 14].values"
   ]
  },
  {
   "cell_type": "code",
   "execution_count": 6,
   "id": "drawn-documentary",
   "metadata": {},
   "outputs": [
    {
     "data": {
      "text/plain": [
       "array([[7.31650e+05, 2.60000e+00, 1.36000e+03, ..., 1.13000e+02,\n",
       "        1.69200e+03, 1.26750e+03],\n",
       "       [7.31650e+05, 2.00000e+00, 1.29225e+03, ..., 9.20000e+01,\n",
       "        1.55875e+03, 9.72250e+02],\n",
       "       [7.31650e+05, 2.20000e+00, 1.40200e+03, ..., 1.14000e+02,\n",
       "        1.55450e+03, 1.07400e+03],\n",
       "       ...,\n",
       "       [7.32040e+05, 2.40000e+00, 1.14200e+03, ..., 1.74700e+02,\n",
       "        1.24075e+03, 1.09200e+03],\n",
       "       [7.32040e+05, 2.10000e+00, 1.00250e+03, ..., 1.55700e+02,\n",
       "        1.04100e+03, 7.69750e+02],\n",
       "       [7.32040e+05, 2.20000e+00, 1.07075e+03, ..., 1.67700e+02,\n",
       "        1.12850e+03, 8.16000e+02]])"
      ]
     },
     "execution_count": 6,
     "metadata": {},
     "output_type": "execute_result"
    }
   ],
   "source": [
    "independent"
   ]
  },
  {
   "cell_type": "code",
   "execution_count": 7,
   "id": "scenic-footage",
   "metadata": {},
   "outputs": [
    {
     "data": {
      "text/plain": [
       "array([[13.5999999 , 48.87500095,  0.75775383],\n",
       "       [13.29999995, 47.69999981,  0.72548745],\n",
       "       [11.9000001 , 53.97500038,  0.75023907],\n",
       "       ...,\n",
       "       [26.89999962, 18.34999967,  0.64064877],\n",
       "       [28.32499981, 13.54999995,  0.51386592],\n",
       "       [28.50000048, 13.125     ,  0.50280371]])"
      ]
     },
     "execution_count": 7,
     "metadata": {},
     "output_type": "execute_result"
    }
   ],
   "source": [
    "dependent"
   ]
  },
  {
   "cell_type": "markdown",
   "id": "velvet-outdoors",
   "metadata": {},
   "source": [
    "# Splitting Dataset Into Test Set And Training Set"
   ]
  },
  {
   "cell_type": "code",
   "execution_count": 8,
   "id": "alien-saying",
   "metadata": {},
   "outputs": [],
   "source": [
    "from sklearn.model_selection import train_test_split\n",
    "independent_train, independent_test, dependent_train, dependent_test = train_test_split(independent, dependent, test_size = 0.2, random_state = 0)"
   ]
  },
  {
   "cell_type": "markdown",
   "id": "established-dynamics",
   "metadata": {},
   "source": [
    "# Training Multiple Linear Rgeression Model"
   ]
  },
  {
   "cell_type": "code",
   "execution_count": 9,
   "id": "celtic-jason",
   "metadata": {},
   "outputs": [
    {
     "data": {
      "text/plain": [
       "LinearRegression()"
      ]
     },
     "execution_count": 9,
     "metadata": {},
     "output_type": "execute_result"
    }
   ],
   "source": [
    "from sklearn.linear_model import LinearRegression\n",
    "regressor = LinearRegression()\n",
    "regressor.fit(independent_train, dependent_train)"
   ]
  },
  {
   "cell_type": "markdown",
   "id": "amended-richardson",
   "metadata": {},
   "source": [
    "# Predicting Future Values"
   ]
  },
  {
   "cell_type": "code",
   "execution_count": 11,
   "id": "italian-turning",
   "metadata": {},
   "outputs": [],
   "source": [
    "dependent_predict = regressor.predict(independent_test)"
   ]
  },
  {
   "cell_type": "code",
   "execution_count": 12,
   "id": "instant-dynamics",
   "metadata": {},
   "outputs": [
    {
     "data": {
      "text/plain": [
       "array([[  17.70556988,   37.74882699,    0.71250214],\n",
       "       [   9.34630341,   59.16843179,    2.9874581 ],\n",
       "       [  22.26051376,   50.89819979,    2.13932465],\n",
       "       ...,\n",
       "       [-200.48573345, -207.48067038, -198.44265118],\n",
       "       [  20.09433537,   46.44516371,    1.70148379],\n",
       "       [  21.34400488,   42.1440997 ,    0.73710274]])"
      ]
     },
     "execution_count": 12,
     "metadata": {},
     "output_type": "execute_result"
    }
   ],
   "source": [
    "dependent_predict"
   ]
  },
  {
   "cell_type": "code",
   "execution_count": 13,
   "id": "loose-observation",
   "metadata": {},
   "outputs": [
    {
     "data": {
      "text/plain": [
       "array([[  18.82499981,   31.70000076,    0.68207458],\n",
       "       [   6.07499993,   43.62500095,    0.41288352],\n",
       "       [  21.50000048,   45.62499905,    1.15581658],\n",
       "       ...,\n",
       "       [-200.        , -200.        , -200.        ],\n",
       "       [  12.5250001 ,   69.29999924,    1.00287084],\n",
       "       [  31.5999999 ,   25.45000029,    1.16383758]])"
      ]
     },
     "execution_count": 13,
     "metadata": {},
     "output_type": "execute_result"
    }
   ],
   "source": [
    "dependent_test"
   ]
  },
  {
   "cell_type": "markdown",
   "id": "public-atmosphere",
   "metadata": {},
   "source": [
    "# Evaluating Performance Of Model"
   ]
  },
  {
   "cell_type": "code",
   "execution_count": 14,
   "id": "tracked-aviation",
   "metadata": {},
   "outputs": [
    {
     "data": {
      "text/plain": [
       "0.9718013668195273"
      ]
     },
     "execution_count": 14,
     "metadata": {},
     "output_type": "execute_result"
    }
   ],
   "source": [
    "from sklearn.metrics import r2_score\n",
    "r2_score(dependent_test, dependent_predict)"
   ]
  },
  {
   "cell_type": "markdown",
   "id": "static-throat",
   "metadata": {},
   "source": [
    "# Predicting Individual Value"
   ]
  },
  {
   "cell_type": "code",
   "execution_count": 17,
   "id": "fatal-commonwealth",
   "metadata": {},
   "outputs": [
    {
     "data": {
      "text/plain": [
       "array([[ 7.04923306, 62.71036813, -0.61882627]])"
      ]
     },
     "execution_count": 17,
     "metadata": {},
     "output_type": "execute_result"
    }
   ],
   "source": [
    "regressor.predict([[732040, 3.1, 1314.25, -200, 13.529605, 1101.25, 471.7, 538.50, 189.8, 1374.25, 1728.50]])"
   ]
  }
 ],
 "metadata": {
  "kernelspec": {
   "display_name": "Python 3",
   "language": "python",
   "name": "python3"
  },
  "language_info": {
   "codemirror_mode": {
    "name": "ipython",
    "version": 3
   },
   "file_extension": ".py",
   "mimetype": "text/x-python",
   "name": "python",
   "nbconvert_exporter": "python",
   "pygments_lexer": "ipython3",
   "version": "3.9.1"
  }
 },
 "nbformat": 4,
 "nbformat_minor": 5
}
