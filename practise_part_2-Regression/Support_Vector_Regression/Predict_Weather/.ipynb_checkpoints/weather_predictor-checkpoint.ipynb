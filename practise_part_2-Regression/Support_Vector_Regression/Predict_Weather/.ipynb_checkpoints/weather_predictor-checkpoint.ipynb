{
 "cells": [
  {
   "cell_type": "markdown",
   "id": "continued-showcase",
   "metadata": {},
   "source": [
    "# Importing Libraries"
   ]
  },
  {
   "cell_type": "code",
   "execution_count": 1,
   "id": "severe-rings",
   "metadata": {},
   "outputs": [],
   "source": [
    "import numpy as np\n",
    "import pandas as pd"
   ]
  },
  {
   "cell_type": "markdown",
   "id": "downtown-nicholas",
   "metadata": {},
   "source": [
    "# Importing Dataset"
   ]
  },
  {
   "cell_type": "code",
   "execution_count": 2,
   "id": "tight-heath",
   "metadata": {},
   "outputs": [],
   "source": [
    "import datetime as dt\n",
    "dataset = pd.read_excel('./AirQualityUCI.xlsx')\n",
    "dataset = dataset.drop(['Time'], axis = 1)\n",
    "dataset[\"Date\"] = pd.to_datetime(dataset[\"Date\"])\n",
    "dataset[\"Date\"] = dataset[\"Date\"].map(dt.datetime.toordinal)"
   ]
  },
  {
   "cell_type": "code",
   "execution_count": 3,
   "id": "impossible-unknown",
   "metadata": {},
   "outputs": [
    {
     "data": {
      "text/html": [
       "<div>\n",
       "<style scoped>\n",
       "    .dataframe tbody tr th:only-of-type {\n",
       "        vertical-align: middle;\n",
       "    }\n",
       "\n",
       "    .dataframe tbody tr th {\n",
       "        vertical-align: top;\n",
       "    }\n",
       "\n",
       "    .dataframe thead th {\n",
       "        text-align: right;\n",
       "    }\n",
       "</style>\n",
       "<table border=\"1\" class=\"dataframe\">\n",
       "  <thead>\n",
       "    <tr style=\"text-align: right;\">\n",
       "      <th></th>\n",
       "      <th>Date</th>\n",
       "      <th>CO(GT)</th>\n",
       "      <th>PT08.S1(CO)</th>\n",
       "      <th>NMHC(GT)</th>\n",
       "      <th>C6H6(GT)</th>\n",
       "      <th>PT08.S2(NMHC)</th>\n",
       "      <th>NOx(GT)</th>\n",
       "      <th>PT08.S3(NOx)</th>\n",
       "      <th>NO2(GT)</th>\n",
       "      <th>PT08.S4(NO2)</th>\n",
       "      <th>PT08.S5(O3)</th>\n",
       "      <th>T</th>\n",
       "      <th>RH</th>\n",
       "      <th>AH</th>\n",
       "      <th>Unnamed: 15</th>\n",
       "      <th>Unnamed: 16</th>\n",
       "    </tr>\n",
       "  </thead>\n",
       "  <tbody>\n",
       "    <tr>\n",
       "      <th>0</th>\n",
       "      <td>731650</td>\n",
       "      <td>2.6</td>\n",
       "      <td>1360.00</td>\n",
       "      <td>150</td>\n",
       "      <td>11.881723</td>\n",
       "      <td>1045.50</td>\n",
       "      <td>166.0</td>\n",
       "      <td>1056.25</td>\n",
       "      <td>113.0</td>\n",
       "      <td>1692.00</td>\n",
       "      <td>1267.50</td>\n",
       "      <td>13.60</td>\n",
       "      <td>48.875001</td>\n",
       "      <td>0.757754</td>\n",
       "      <td>NaN</td>\n",
       "      <td>NaN</td>\n",
       "    </tr>\n",
       "    <tr>\n",
       "      <th>1</th>\n",
       "      <td>731650</td>\n",
       "      <td>2.0</td>\n",
       "      <td>1292.25</td>\n",
       "      <td>112</td>\n",
       "      <td>9.397165</td>\n",
       "      <td>954.75</td>\n",
       "      <td>103.0</td>\n",
       "      <td>1173.75</td>\n",
       "      <td>92.0</td>\n",
       "      <td>1558.75</td>\n",
       "      <td>972.25</td>\n",
       "      <td>13.30</td>\n",
       "      <td>47.700000</td>\n",
       "      <td>0.725487</td>\n",
       "      <td>NaN</td>\n",
       "      <td>NaN</td>\n",
       "    </tr>\n",
       "    <tr>\n",
       "      <th>2</th>\n",
       "      <td>731650</td>\n",
       "      <td>2.2</td>\n",
       "      <td>1402.00</td>\n",
       "      <td>88</td>\n",
       "      <td>8.997817</td>\n",
       "      <td>939.25</td>\n",
       "      <td>131.0</td>\n",
       "      <td>1140.00</td>\n",
       "      <td>114.0</td>\n",
       "      <td>1554.50</td>\n",
       "      <td>1074.00</td>\n",
       "      <td>11.90</td>\n",
       "      <td>53.975000</td>\n",
       "      <td>0.750239</td>\n",
       "      <td>NaN</td>\n",
       "      <td>NaN</td>\n",
       "    </tr>\n",
       "    <tr>\n",
       "      <th>3</th>\n",
       "      <td>731650</td>\n",
       "      <td>2.2</td>\n",
       "      <td>1375.50</td>\n",
       "      <td>80</td>\n",
       "      <td>9.228796</td>\n",
       "      <td>948.25</td>\n",
       "      <td>172.0</td>\n",
       "      <td>1092.00</td>\n",
       "      <td>122.0</td>\n",
       "      <td>1583.75</td>\n",
       "      <td>1203.25</td>\n",
       "      <td>11.00</td>\n",
       "      <td>60.000000</td>\n",
       "      <td>0.786713</td>\n",
       "      <td>NaN</td>\n",
       "      <td>NaN</td>\n",
       "    </tr>\n",
       "    <tr>\n",
       "      <th>4</th>\n",
       "      <td>731650</td>\n",
       "      <td>1.6</td>\n",
       "      <td>1272.25</td>\n",
       "      <td>51</td>\n",
       "      <td>6.518224</td>\n",
       "      <td>835.50</td>\n",
       "      <td>131.0</td>\n",
       "      <td>1205.00</td>\n",
       "      <td>116.0</td>\n",
       "      <td>1490.00</td>\n",
       "      <td>1110.00</td>\n",
       "      <td>11.15</td>\n",
       "      <td>59.575001</td>\n",
       "      <td>0.788794</td>\n",
       "      <td>NaN</td>\n",
       "      <td>NaN</td>\n",
       "    </tr>\n",
       "  </tbody>\n",
       "</table>\n",
       "</div>"
      ],
      "text/plain": [
       "     Date  CO(GT)  PT08.S1(CO)  NMHC(GT)   C6H6(GT)  PT08.S2(NMHC)  NOx(GT)  \\\n",
       "0  731650     2.6      1360.00       150  11.881723        1045.50    166.0   \n",
       "1  731650     2.0      1292.25       112   9.397165         954.75    103.0   \n",
       "2  731650     2.2      1402.00        88   8.997817         939.25    131.0   \n",
       "3  731650     2.2      1375.50        80   9.228796         948.25    172.0   \n",
       "4  731650     1.6      1272.25        51   6.518224         835.50    131.0   \n",
       "\n",
       "   PT08.S3(NOx)  NO2(GT)  PT08.S4(NO2)  PT08.S5(O3)      T         RH  \\\n",
       "0       1056.25    113.0       1692.00      1267.50  13.60  48.875001   \n",
       "1       1173.75     92.0       1558.75       972.25  13.30  47.700000   \n",
       "2       1140.00    114.0       1554.50      1074.00  11.90  53.975000   \n",
       "3       1092.00    122.0       1583.75      1203.25  11.00  60.000000   \n",
       "4       1205.00    116.0       1490.00      1110.00  11.15  59.575001   \n",
       "\n",
       "         AH  Unnamed: 15  Unnamed: 16  \n",
       "0  0.757754          NaN          NaN  \n",
       "1  0.725487          NaN          NaN  \n",
       "2  0.750239          NaN          NaN  \n",
       "3  0.786713          NaN          NaN  \n",
       "4  0.788794          NaN          NaN  "
      ]
     },
     "execution_count": 3,
     "metadata": {},
     "output_type": "execute_result"
    }
   ],
   "source": [
    "dataset.head()"
   ]
  },
  {
   "cell_type": "code",
   "execution_count": 4,
   "id": "competent-forest",
   "metadata": {},
   "outputs": [],
   "source": [
    "independent = dataset.iloc[ : , : 11].values\n",
    "dependent = dataset.iloc[ : , 11 : 14].values"
   ]
  },
  {
   "cell_type": "markdown",
   "id": "aquatic-colombia",
   "metadata": {},
   "source": [
    "# Split Dataset Into Test Set And Train Set"
   ]
  },
  {
   "cell_type": "code",
   "execution_count": 5,
   "id": "disciplinary-interpretation",
   "metadata": {},
   "outputs": [],
   "source": [
    "from sklearn.model_selection import train_test_split\n",
    "independent_train, independent_test, dependent_train, dependent_test = train_test_split(independent, dependent, test_size = 0.2, random_state = 0)"
   ]
  },
  {
   "cell_type": "markdown",
   "id": "foreign-programmer",
   "metadata": {},
   "source": [
    "# Train Decision Tree Regressor Model"
   ]
  },
  {
   "cell_type": "code",
   "execution_count": 6,
   "id": "affiliated-return",
   "metadata": {},
   "outputs": [
    {
     "data": {
      "text/plain": [
       "DecisionTreeRegressor(random_state=0)"
      ]
     },
     "execution_count": 6,
     "metadata": {},
     "output_type": "execute_result"
    }
   ],
   "source": [
    "from sklearn.tree import DecisionTreeRegressor\n",
    "regressor = DecisionTreeRegressor(random_state=0)\n",
    "regressor.fit(independent_train, dependent_train)"
   ]
  },
  {
   "cell_type": "markdown",
   "id": "romance-magic",
   "metadata": {},
   "source": [
    "# Predicting Future Values"
   ]
  },
  {
   "cell_type": "code",
   "execution_count": 7,
   "id": "widespread-adult",
   "metadata": {},
   "outputs": [],
   "source": [
    "dependent_predict = regressor.predict(independent_test)"
   ]
  },
  {
   "cell_type": "code",
   "execution_count": 8,
   "id": "varied-antique",
   "metadata": {},
   "outputs": [
    {
     "data": {
      "text/plain": [
       "array([[  19.7249999 ,   32.52499914,    0.73959384],\n",
       "       [   4.625     ,   54.57499981,    0.46821727],\n",
       "       [  28.27499962,   36.69999981,    1.38778359],\n",
       "       ...,\n",
       "       [-200.        , -200.        , -200.        ],\n",
       "       [   9.92499995,   77.69999886,    0.94973988],\n",
       "       [  32.35000038,   19.44999981,    0.92788843]])"
      ]
     },
     "execution_count": 8,
     "metadata": {},
     "output_type": "execute_result"
    }
   ],
   "source": [
    "dependent_predict"
   ]
  },
  {
   "cell_type": "code",
   "execution_count": 9,
   "id": "arctic-sewing",
   "metadata": {},
   "outputs": [
    {
     "data": {
      "text/plain": [
       "array([[  18.82499981,   31.70000076,    0.68207458],\n",
       "       [   6.07499993,   43.62500095,    0.41288352],\n",
       "       [  21.50000048,   45.62499905,    1.15581658],\n",
       "       ...,\n",
       "       [-200.        , -200.        , -200.        ],\n",
       "       [  12.5250001 ,   69.29999924,    1.00287084],\n",
       "       [  31.5999999 ,   25.45000029,    1.16383758]])"
      ]
     },
     "execution_count": 9,
     "metadata": {},
     "output_type": "execute_result"
    }
   ],
   "source": [
    "dependent_test"
   ]
  },
  {
   "cell_type": "markdown",
   "id": "overall-nudist",
   "metadata": {},
   "source": [
    "# Evaluating Performace Of Model"
   ]
  },
  {
   "cell_type": "code",
   "execution_count": 10,
   "id": "directed-elimination",
   "metadata": {},
   "outputs": [
    {
     "data": {
      "text/plain": [
       "0.983421891432108"
      ]
     },
     "execution_count": 10,
     "metadata": {},
     "output_type": "execute_result"
    }
   ],
   "source": [
    "from sklearn.metrics import r2_score\n",
    "r2_score(dependent_test, dependent_predict)"
   ]
  },
  {
   "cell_type": "code",
   "execution_count": null,
   "id": "affected-warren",
   "metadata": {},
   "outputs": [],
   "source": []
  }
 ],
 "metadata": {
  "kernelspec": {
   "display_name": "Python 3",
   "language": "python",
   "name": "python3"
  },
  "language_info": {
   "codemirror_mode": {
    "name": "ipython",
    "version": 3
   },
   "file_extension": ".py",
   "mimetype": "text/x-python",
   "name": "python",
   "nbconvert_exporter": "python",
   "pygments_lexer": "ipython3",
   "version": "3.9.1"
  }
 },
 "nbformat": 4,
 "nbformat_minor": 5
}
