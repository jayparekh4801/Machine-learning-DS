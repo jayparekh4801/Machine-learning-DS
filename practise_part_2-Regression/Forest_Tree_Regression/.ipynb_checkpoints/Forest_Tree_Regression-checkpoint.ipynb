{
 "cells": [
  {
   "cell_type": "markdown",
   "id": "prepared-multiple",
   "metadata": {},
   "source": [
    "# Importing Libraries"
   ]
  },
  {
   "cell_type": "code",
   "execution_count": 1,
   "id": "broken-healing",
   "metadata": {},
   "outputs": [],
   "source": [
    "import numpy as np\n",
    "import pandas as pd\n",
    "import matplotlib.pyplot as plt"
   ]
  },
  {
   "cell_type": "markdown",
   "id": "helpful-cholesterol",
   "metadata": {},
   "source": [
    "# Import Dataset"
   ]
  },
  {
   "cell_type": "code",
   "execution_count": 2,
   "id": "democratic-tenant",
   "metadata": {},
   "outputs": [],
   "source": [
    "dataset = pd.read_csv(\"./Position_Salaries.csv\")\n",
    "independent = dataset.iloc[ : , 1 : -1]\n",
    "dependent = dataset.iloc[ : , -1]"
   ]
  },
  {
   "cell_type": "markdown",
   "id": "established-coaching",
   "metadata": {},
   "source": [
    "# Taking Care Of Missing Data"
   ]
  },
  {
   "cell_type": "code",
   "execution_count": 3,
   "id": "peripheral-retrieval",
   "metadata": {},
   "outputs": [],
   "source": [
    "from sklearn.impute import SimpleImputer\n",
    "imputer = SimpleImputer(missing_values=np.nan, strategy=\"mean\")\n",
    "independent = imputer.fit_transform(independent)"
   ]
  },
  {
   "cell_type": "markdown",
   "id": "australian-purple",
   "metadata": {},
   "source": [
    "# Making Forest Tree Regression Model"
   ]
  },
  {
   "cell_type": "code",
   "execution_count": 4,
   "id": "unsigned-november",
   "metadata": {},
   "outputs": [
    {
     "data": {
      "text/plain": [
       "RandomForestRegressor(n_estimators=10, random_state=0)"
      ]
     },
     "execution_count": 4,
     "metadata": {},
     "output_type": "execute_result"
    }
   ],
   "source": [
    "from sklearn.ensemble import RandomForestRegressor\n",
    "regressor = RandomForestRegressor(n_estimators=10, random_state=0)\n",
    "regressor.fit(independent, dependent)"
   ]
  },
  {
   "cell_type": "code",
   "execution_count": 5,
   "id": "clinical-vatican",
   "metadata": {},
   "outputs": [
    {
     "data": {
      "text/plain": [
       "array([167000.])"
      ]
     },
     "execution_count": 5,
     "metadata": {},
     "output_type": "execute_result"
    }
   ],
   "source": [
    "regressor.predict([[6.5]])"
   ]
  },
  {
   "cell_type": "markdown",
   "id": "accomplished-logistics",
   "metadata": {},
   "source": [
    "# Visualising Forest Tree REgression Model"
   ]
  },
  {
   "cell_type": "code",
   "execution_count": 6,
   "id": "domestic-republic",
   "metadata": {},
   "outputs": [
    {
     "data": {
      "image/png": "[encoded data removed]",
      "text/plain": [
       "<Figure size 432x288 with 1 Axes>"
      ]
     },
     "metadata": {
      "needs_background": "light"
     },
     "output_type": "display_data"
    }
   ],
   "source": [
    "independent_grid = np.arange(min(independent), max(independent), 0.1)\n",
    "dependent_grid_pred = regressor.predict(independent_grid.reshape(len(independent_grid), 1))\n",
    "plt.scatter(independent, dependent, color = \"red\")\n",
    "plt.plot(independent_grid, dependent_grid_pred, color = \"blue\")\n",
    "plt.title(\"Bluff Or Truth Of Salaries(using Forest Tree Regression)\")\n",
    "plt.xlabel(\"Levels\")\n",
    "plt.ylabel(\"Salaries\")\n",
    "plt.show()"
   ]
  },
  {
   "cell_type": "markdown",
   "id": "impaired-alignment",
   "metadata": {},
   "source": [
    "# Evaluating Performace Of Model"
   ]
  },
  {
   "cell_type": "code",
   "execution_count": 9,
   "id": "defined-snowboard",
   "metadata": {},
   "outputs": [
    {
     "data": {
      "text/plain": [
       "0.9704434230386582"
      ]
     },
     "execution_count": 9,
     "metadata": {},
     "output_type": "execute_result"
    }
   ],
   "source": [
    "from sklearn.metrics import r2_score\n",
    "r2_score(dependent, regressor.predict(independent))"
   ]
  },
  {
   "cell_type": "code",
   "execution_count": null,
   "id": "signed-dispute",
   "metadata": {},
   "outputs": [],
   "source": []
  }
 ],
 "metadata": {
  "kernelspec": {
   "display_name": "Python 3",
   "language": "python",
   "name": "python3"
  },
  "language_info": {
   "codemirror_mode": {
    "name": "ipython",
    "version": 3
   },
   "file_extension": ".py",
   "mimetype": "text/x-python",
   "name": "python",
   "nbconvert_exporter": "python",
   "pygments_lexer": "ipython3",
   "version": "3.9.1"
  }
 },
 "nbformat": 4,
 "nbformat_minor": 5
}
