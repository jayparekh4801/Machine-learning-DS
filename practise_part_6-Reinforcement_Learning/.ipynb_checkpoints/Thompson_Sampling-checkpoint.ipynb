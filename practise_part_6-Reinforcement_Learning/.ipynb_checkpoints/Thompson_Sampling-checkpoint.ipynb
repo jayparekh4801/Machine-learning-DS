{
 "cells": [
  {
   "cell_type": "markdown",
   "id": "decreased-bulgarian",
   "metadata": {},
   "source": [
    "# Importing Libraries "
   ]
  },
  {
   "cell_type": "code",
   "execution_count": 1,
   "id": "satisfied-carnival",
   "metadata": {},
   "outputs": [],
   "source": [
    "import numpy as np\n",
    "import pandas as pd\n",
    "import matplotlib.pyplot as plt"
   ]
  },
  {
   "cell_type": "markdown",
   "id": "living-wallace",
   "metadata": {},
   "source": [
    "# Importing Dataset"
   ]
  },
  {
   "cell_type": "code",
   "execution_count": 2,
   "id": "ancient-decline",
   "metadata": {},
   "outputs": [],
   "source": [
    "dataset = pd.read_csv(\"/Users/jayparekh/Documents/machine_learning_dataScience/Machine Learning A-Z (Codes and Datasets)/Part 6 - Reinforcement Learning/Section 33 - Thompson Sampling/Python/Ads_CTR_Optimisation.csv\")"
   ]
  },
  {
   "cell_type": "markdown",
   "id": "ethical-klein",
   "metadata": {},
   "source": [
    "# Implementing Thompson Sampling"
   ]
  },
  {
   "cell_type": "code",
   "execution_count": 3,
   "id": "closed-country",
   "metadata": {},
   "outputs": [],
   "source": [
    "import random\n",
    "N = 10000\n",
    "d = 10\n",
    "selectedAds = []\n",
    "numbersOfReward0 = [0] * d\n",
    "numbersOfReward1 = [0] * d\n",
    "\n",
    "for n in range(0, N) :\n",
    "    ad = 0\n",
    "    maxRandom = 0\n",
    "    for i in range(0, d) :\n",
    "        theta_i = random.betavariate(numbersOfReward1[i] + 1, numbersOfReward0[i] + 1)\n",
    "        if(theta_i > maxRandom) :\n",
    "            maxRandom = theta_i\n",
    "            ad = i\n",
    "    selectedAds.append(ad)\n",
    "    if(dataset.values[n, ad] == 0) :\n",
    "        numbersOfReward0[ad] = numbersOfReward0[ad] + 1\n",
    "    elif(dataset.values[n, ad] == 1) :\n",
    "        numbersOfReward1[ad] = numbersOfReward1[ad] + 1\n"
   ]
  },
  {
   "cell_type": "code",
   "execution_count": null,
   "id": "lined-minute",
   "metadata": {},
   "outputs": [],
   "source": []
  }
 ],
 "metadata": {
  "kernelspec": {
   "display_name": "Python 3",
   "language": "python",
   "name": "python3"
  },
  "language_info": {
   "codemirror_mode": {
    "name": "ipython",
    "version": 3
   },
   "file_extension": ".py",
   "mimetype": "text/x-python",
   "name": "python",
   "nbconvert_exporter": "python",
   "pygments_lexer": "ipython3",
   "version": "3.9.1"
  }
 },
 "nbformat": 4,
 "nbformat_minor": 5
}
