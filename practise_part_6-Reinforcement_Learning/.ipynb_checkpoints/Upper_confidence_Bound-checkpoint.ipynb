{
 "cells": [
  {
   "cell_type": "markdown",
   "id": "assured-tackle",
   "metadata": {},
   "source": [
    "# Importing Libraries"
   ]
  },
  {
   "cell_type": "code",
   "execution_count": 1,
   "id": "raised-interpretation",
   "metadata": {},
   "outputs": [],
   "source": [
    "import numpy as np\n",
    "import pandas as pd\n",
    "import matplotlib.pyplot as plt"
   ]
  },
  {
   "cell_type": "markdown",
   "id": "direct-superior",
   "metadata": {},
   "source": [
    "# Importing Dataset"
   ]
  },
  {
   "cell_type": "code",
   "execution_count": 2,
   "id": "complex-tobacco",
   "metadata": {},
   "outputs": [],
   "source": [
    "dataset = pd.read_csv(\"/Users/jayparekh/Documents/machine_learning_dataScience/Machine Learning A-Z (Codes and Datasets)/Part 6 - Reinforcement Learning/Section 32 - Upper Confidence Bound (UCB)/Python/Ads_CTR_Optimisation.csv\")\n",
    "dataset = dataset.iloc[ : , : ].values"
   ]
  },
  {
   "cell_type": "markdown",
   "id": "patent-intellectual",
   "metadata": {},
   "source": [
    "# Implementing Upper Confidence Bound Algorithm"
   ]
  },
  {
   "cell_type": "code",
   "execution_count": 11,
   "id": "comparative-battlefield",
   "metadata": {},
   "outputs": [],
   "source": [
    "import math\n",
    "\n",
    "N = 10000\n",
    "d = 10\n",
    "selectedAds = []\n",
    "rewardOfAds = [0] * d\n",
    "numberOfSelections = [0] * d\n",
    "\n",
    "for n in range(0, N) :\n",
    "    ad = 0\n",
    "    maxUCB = 0\n",
    "    for i in range(0, d) :\n",
    "        if (numberOfSelections[i] > 0) :\n",
    "            averageReward = rewardOfAds[i] / numberOfSelections[i]\n",
    "            deltaI = math.sqrt(3 / 2 * math.log(n + 1) / numberOfSelections[i])\n",
    "            UCB = averageReward + deltaI\n",
    "            \n",
    "        else :\n",
    "            UCB = 1e400\n",
    "            \n",
    "        if(UCB > maxUCB) :\n",
    "            maxUCB = UCB\n",
    "            ad = i\n",
    "    selectedAds.append(ad)\n",
    "    numberOfSelections[ad] = numberOfSelections[ad] + 1\n",
    "    rewardOfAds[ad] = rewardOfAds[ad] + dataset[n, ad]\n",
    "    "
   ]
  },
  {
   "cell_type": "markdown",
   "id": "soviet-edition",
   "metadata": {},
   "source": [
    "# Visualising The Results"
   ]
  },
  {
   "cell_type": "code",
   "execution_count": 12,
   "id": "least-bottle",
   "metadata": {},
   "outputs": [
    {
     "data": {
      "image/png": "[encoded data removed]",
      "text/plain": [
       "<Figure size 432x288 with 1 Axes>"
      ]
     },
     "metadata": {
      "needs_background": "light"
     },
     "output_type": "display_data"
    }
   ],
   "source": [
    "plt.hist(selectedAds)\n",
    "plt.title('Histogram Of Ad Selection')\n",
    "plt.xlabel(\"Ads\")\n",
    "plt.ylabel(\"number Of rounds\")\n",
    "plt.show()"
   ]
  },
  {
   "cell_type": "code",
   "execution_count": null,
   "id": "therapeutic-printing",
   "metadata": {},
   "outputs": [],
   "source": []
  }
 ],
 "metadata": {
  "kernelspec": {
   "display_name": "Python 3",
   "language": "python",
   "name": "python3"
  },
  "language_info": {
   "codemirror_mode": {
    "name": "ipython",
    "version": 3
   },
   "file_extension": ".py",
   "mimetype": "text/x-python",
   "name": "python",
   "nbconvert_exporter": "python",
   "pygments_lexer": "ipython3",
   "version": "3.9.1"
  }
 },
 "nbformat": 4,
 "nbformat_minor": 5
}
