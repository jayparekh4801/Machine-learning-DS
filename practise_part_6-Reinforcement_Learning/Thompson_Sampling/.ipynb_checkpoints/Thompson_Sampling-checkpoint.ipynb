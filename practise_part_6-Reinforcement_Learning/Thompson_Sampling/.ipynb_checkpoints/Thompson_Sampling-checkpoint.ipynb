{
 "cells": [
  {
   "cell_type": "markdown",
   "id": "decreased-bulgarian",
   "metadata": {},
   "source": [
    "# Importing Libraries "
   ]
  },
  {
   "cell_type": "code",
   "execution_count": 1,
   "id": "satisfied-carnival",
   "metadata": {},
   "outputs": [],
   "source": [
    "import numpy as np\n",
    "import pandas as pd\n",
    "import matplotlib.pyplot as plt"
   ]
  },
  {
   "cell_type": "markdown",
   "id": "living-wallace",
   "metadata": {},
   "source": [
    "# Importing Dataset"
   ]
  },
  {
   "cell_type": "code",
   "execution_count": 2,
   "id": "ancient-decline",
   "metadata": {},
   "outputs": [],
   "source": [
    "dataset = pd.read_csv(\"./Ads_CTR_Optimisation.csv\")\n",
    "dataset = dataset.values"
   ]
  },
  {
   "cell_type": "markdown",
   "id": "ethical-klein",
   "metadata": {},
   "source": [
    "# Implementing Thompson Sampling"
   ]
  },
  {
   "cell_type": "code",
   "execution_count": 3,
   "id": "closed-country",
   "metadata": {},
   "outputs": [],
   "source": [
    "import random\n",
    "N = 10000\n",
    "d = 10\n",
    "selectedAds = []\n",
    "numbersOfReward0 = [0] * d\n",
    "numbersOfReward1 = [0] * d\n",
    "\n",
    "for n in range(0, N) :\n",
    "    ad = 0\n",
    "    maxRandom = 0\n",
    "    for i in range(0, d) :\n",
    "        theta_i = random.betavariate(numbersOfReward1[i] + 1, numbersOfReward0[i] + 1)\n",
    "        if(theta_i > maxRandom) :\n",
    "            maxRandom = theta_i\n",
    "            ad = i\n",
    "    selectedAds.append(ad)\n",
    "    if(dataset[n, ad] == 0) :\n",
    "        numbersOfReward0[ad] = numbersOfReward0[ad] + 1\n",
    "    elif(dataset[n, ad] == 1) :\n",
    "        numbersOfReward1[ad] = numbersOfReward1[ad] + 1\n"
   ]
  },
  {
   "cell_type": "markdown",
   "id": "ranking-honor",
   "metadata": {},
   "source": [
    "# Visualising The Results- Histogram"
   ]
  },
  {
   "cell_type": "code",
   "execution_count": 4,
   "id": "understood-penalty",
   "metadata": {},
   "outputs": [
    {
     "data": {
      "image/png": "[encoded data removed]",
      "text/plain": [
       "<Figure size 432x288 with 1 Axes>"
      ]
     },
     "metadata": {
      "needs_background": "light"
     },
     "output_type": "display_data"
    }
   ],
   "source": [
    "plt.hist(selectedAds)\n",
    "plt.title(\"Histogram Of Ads Selection\")\n",
    "plt.xlabel(\"Ads\")\n",
    "plt.ylabel(\"Number Of Customers\")\n",
    "plt.show()"
   ]
  },
  {
   "cell_type": "code",
   "execution_count": null,
   "id": "explicit-firmware",
   "metadata": {},
   "outputs": [],
   "source": []
  }
 ],
 "metadata": {
  "kernelspec": {
   "display_name": "Python 3",
   "language": "python",
   "name": "python3"
  },
  "language_info": {
   "codemirror_mode": {
    "name": "ipython",
    "version": 3
   },
   "file_extension": ".py",
   "mimetype": "text/x-python",
   "name": "python",
   "nbconvert_exporter": "python",
   "pygments_lexer": "ipython3",
   "version": "3.9.1"
  }
 },
 "nbformat": 4,
 "nbformat_minor": 5
}
