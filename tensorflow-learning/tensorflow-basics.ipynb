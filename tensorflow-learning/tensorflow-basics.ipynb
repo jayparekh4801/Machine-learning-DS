{
 "cells": [
  {
   "cell_type": "code",
   "execution_count": 2,
   "metadata": {},
   "outputs": [],
   "source": [
    "import tensorflow as tf"
   ]
  },
  {
   "cell_type": "code",
   "execution_count": 3,
   "metadata": {},
   "outputs": [
    {
     "data": {
      "text/plain": [
       "'2.11.0'"
      ]
     },
     "execution_count": 3,
     "metadata": {},
     "output_type": "execute_result"
    }
   ],
   "source": [
    "tf.__version__"
   ]
  },
  {
   "attachments": {},
   "cell_type": "markdown",
   "metadata": {},
   "source": [
    "Initialization Of Tensors"
   ]
  },
  {
   "cell_type": "code",
   "execution_count": 4,
   "metadata": {},
   "outputs": [
    {
     "name": "stdout",
     "output_type": "stream",
     "text": [
      "tf.Tensor([0. 2. 4. 6. 8.], shape=(5,), dtype=float32)\n"
     ]
    }
   ],
   "source": [
    "x = tf.constant(10, shape=(1, 1), dtype=tf.float32)\n",
    "x = tf.constant([[1, 2, 3], [4, 5, 6]])\n",
    "x = tf.ones((2, 3))\n",
    "x = tf.zeros((2, 3))\n",
    "x = tf.eye((2))\n",
    "x = tf.random.normal((3, 3), mean=0, stddev=1)\n",
    "x = tf.random.uniform((3, 3), minval=-1, maxval=1)\n",
    "x = tf.range(start=0, limit=10, delta=2)\n",
    "x = tf.cast(x, dtype=tf.float32)\n",
    "print(x)"
   ]
  },
  {
   "attachments": {},
   "cell_type": "markdown",
   "metadata": {},
   "source": [
    "Mathametical Operations"
   ]
  },
  {
   "cell_type": "code",
   "execution_count": 5,
   "metadata": {},
   "outputs": [
    {
     "name": "stdout",
     "output_type": "stream",
     "text": [
      "tf.Tensor(\n",
      "[[-1.5846578  -0.267991   -2.0423427  -0.46624225]\n",
      " [ 1.0620031  -0.44995037  0.79296917 -1.5280147 ]], shape=(2, 4), dtype=float32)\n"
     ]
    }
   ],
   "source": [
    "x = tf.constant([1, 2, 3])\n",
    "y = tf.constant([4, 5, 6])\n",
    "\n",
    "z = tf.add(x, y)\n",
    "z = x + y\n",
    "\n",
    "z = tf.subtract(x, y)\n",
    "z = x - y\n",
    "\n",
    "z = tf.divide(x, y)\n",
    "z = x / y\n",
    "\n",
    "z = tf.multiply(x, y)\n",
    "z = x * y\n",
    "\n",
    "z = tf.tensordot(x, y, axes=1)\n",
    "\n",
    "z = x ** 5\n",
    "\n",
    "x = tf.random.normal((2, 3))\n",
    "y = tf.random.normal((3, 4))\n",
    "\n",
    "z = tf.matmul(x, y)\n",
    "z = x @ y\n",
    "print(z)"
   ]
  },
  {
   "attachments": {},
   "cell_type": "markdown",
   "metadata": {},
   "source": [
    "Indexing In Tesnsors"
   ]
  },
  {
   "cell_type": "code",
   "execution_count": 15,
   "metadata": {},
   "outputs": [
    {
     "name": "stdout",
     "output_type": "stream",
     "text": [
      "tf.Tensor([1 2 3 4 5 6 7 8], shape=(8,), dtype=int32)\n",
      "tf.Tensor([2 3 4 5 6 7 8], shape=(7,), dtype=int32)\n",
      "tf.Tensor([2 3], shape=(2,), dtype=int32)\n",
      "tf.Tensor([1 3 5 7], shape=(4,), dtype=int32)\n",
      "tf.Tensor([8 7 6 5 4 3 2 1], shape=(8,), dtype=int32)\n",
      "tf.Tensor([1 4], shape=(2,), dtype=int32)\n",
      "tf.Tensor(\n",
      "[[2]\n",
      " [4]\n",
      " [6]], shape=(3, 1), dtype=int32)\n"
     ]
    }
   ],
   "source": [
    "x = tf.constant([1, 2, 3, 4, 5, 6, 7, 8])\n",
    "print(x[:])\n",
    "print(x[1:])\n",
    "print(x[1:3])\n",
    "print(x[::2])\n",
    "print(x[::-1])\n",
    "\n",
    "indices = tf.constant([0, 3])\n",
    "x_ind = tf.gather(x, indices)\n",
    "print(x_ind)\n",
    "\n",
    "x = tf.constant([[1, 2],\n",
    "                 [3, 4],\n",
    "                 [5, 6]])\n",
    "print(x[:, 1:])"
   ]
  },
  {
   "attachments": {},
   "cell_type": "markdown",
   "metadata": {},
   "source": [
    "Reshaping In Tensors"
   ]
  },
  {
   "cell_type": "code",
   "execution_count": 31,
   "metadata": {},
   "outputs": [
    {
     "name": "stdout",
     "output_type": "stream",
     "text": [
      "tf.Tensor([0 1 2 3 4 5 6 7 8], shape=(9,), dtype=int32)\n",
      "tf.Tensor(\n",
      "[[0 1 2]\n",
      " [3 4 5]\n",
      " [6 7 8]], shape=(3, 3), dtype=int32)\n",
      "tf.Tensor(\n",
      "[[0 3 6]\n",
      " [1 4 7]\n",
      " [2 5 8]], shape=(3, 3), dtype=int32)\n",
      "tf.Tensor(\n",
      "[[[1 3]\n",
      "  [5 7]]\n",
      "\n",
      " [[2 4]\n",
      "  [6 8]]], shape=(2, 2, 2), dtype=int32)\n"
     ]
    }
   ],
   "source": [
    "x = tf.range(start=0, limit=9, delta=1)\n",
    "print(x)\n",
    "\n",
    "x = tf.reshape(x, (3, 3))\n",
    "print(x)\n",
    "\n",
    "x = tf.transpose(x, perm=[1, 0])\n",
    "print(x)\n",
    "\n",
    "x = tf.constant([[[1, 2], [3, 4]], [[5, 6], [7, 8]]])\n",
    "x = tf.transpose(x, perm=[2, 0, 1])\n",
    "print(x)"
   ]
  },
  {
   "cell_type": "markdown",
   "metadata": {},
   "source": []
  }
 ],
 "metadata": {
  "kernelspec": {
   "display_name": "Python 3",
   "language": "python",
   "name": "python3"
  },
  "language_info": {
   "codemirror_mode": {
    "name": "ipython",
    "version": 3
   },
   "file_extension": ".py",
   "mimetype": "text/x-python",
   "name": "python",
   "nbconvert_exporter": "python",
   "pygments_lexer": "ipython3",
   "version": "3.10.7"
  },
  "orig_nbformat": 4,
  "vscode": {
   "interpreter": {
    "hash": "aee8b7b246df8f9039afb4144a1f6fd8d2ca17a180786b69acc140d282b71a49"
   }
  }
 },
 "nbformat": 4,
 "nbformat_minor": 2
}
