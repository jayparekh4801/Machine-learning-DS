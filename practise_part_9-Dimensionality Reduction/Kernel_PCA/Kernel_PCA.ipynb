{
 "cells": [
  {
   "cell_type": "markdown",
   "id": "interstate-graphics",
   "metadata": {},
   "source": [
    "# Importing Libraries"
   ]
  },
  {
   "cell_type": "code",
   "execution_count": 1,
   "id": "regulation-investigation",
   "metadata": {},
   "outputs": [],
   "source": [
    "import numpy as np\n",
    "import pandas as pd\n",
    "import matplotlib.pyplot as plt"
   ]
  },
  {
   "cell_type": "markdown",
   "id": "gentle-declaration",
   "metadata": {},
   "source": [
    "# Importing Dataset"
   ]
  },
  {
   "cell_type": "code",
   "execution_count": 2,
   "id": "exact-brisbane",
   "metadata": {},
   "outputs": [],
   "source": [
    "dataset = pd.read_csv(\"./Wine.csv\")\n",
    "independent = dataset.iloc[ : , : -1].values\n",
    "dependent = dataset.iloc[ : , -1].values"
   ]
  },
  {
   "cell_type": "markdown",
   "id": "radio-drunk",
   "metadata": {},
   "source": [
    "# Splitting Dataset Into Test Set And Training Set"
   ]
  },
  {
   "cell_type": "code",
   "execution_count": 3,
   "id": "partial-regular",
   "metadata": {},
   "outputs": [],
   "source": [
    "from sklearn.model_selection import train_test_split\n",
    "independent_train, independent_test, dependent_train, dependent_test = train_test_split(independent, dependent, random_state=0, test_size=0.2)"
   ]
  },
  {
   "cell_type": "markdown",
   "id": "public-graphic",
   "metadata": {},
   "source": [
    "# Feture Scaling"
   ]
  },
  {
   "cell_type": "code",
   "execution_count": 4,
   "id": "bearing-sponsorship",
   "metadata": {},
   "outputs": [],
   "source": [
    "from sklearn.preprocessing import StandardScaler\n",
    "scalar = StandardScaler()\n",
    "independent_train_scal = scalar.fit_transform(independent_train)\n",
    "independent_test_scal  = scalar.transform(independent_test)"
   ]
  },
  {
   "cell_type": "markdown",
   "id": "geological-welsh",
   "metadata": {},
   "source": [
    "# Applying Kernel PCA"
   ]
  },
  {
   "cell_type": "code",
   "execution_count": 7,
   "id": "uniform-chassis",
   "metadata": {},
   "outputs": [],
   "source": [
    "from sklearn.decomposition import KernelPCA\n",
    "kpca = KernelPCA(n_components = 2, kernel=\"rbf\")\n",
    "independent_train_scal_kpca = kpca.fit_transform(independent_train_scal)\n",
    "independent_test_scal_kpca = kpca.transform(independent_test_scal)"
   ]
  },
  {
   "cell_type": "markdown",
   "id": "rising-combining",
   "metadata": {},
   "source": [
    "# Making Logistic Regression Model "
   ]
  },
  {
   "cell_type": "code",
   "execution_count": 9,
   "id": "indoor-oakland",
   "metadata": {},
   "outputs": [
    {
     "data": {
      "text/plain": [
       "LogisticRegression(random_state=0)"
      ]
     },
     "execution_count": 9,
     "metadata": {},
     "output_type": "execute_result"
    }
   ],
   "source": [
    "from sklearn.linear_model import LogisticRegression\n",
    "classifier = LogisticRegression(random_state = 0)\n",
    "classifier.fit(independent_train_scal_kpca, dependent_train)"
   ]
  },
  {
   "cell_type": "markdown",
   "id": "limiting-article",
   "metadata": {},
   "source": [
    "# Predicting Test Set Values"
   ]
  },
  {
   "cell_type": "code",
   "execution_count": 10,
   "id": "alien-elite",
   "metadata": {},
   "outputs": [
    {
     "data": {
      "text/plain": [
       "array([[1, 1],\n",
       "       [3, 3],\n",
       "       [2, 2],\n",
       "       [1, 1],\n",
       "       [2, 2],\n",
       "       [2, 2],\n",
       "       [1, 1],\n",
       "       [3, 3],\n",
       "       [2, 2],\n",
       "       [2, 2],\n",
       "       [3, 3],\n",
       "       [3, 3],\n",
       "       [1, 1],\n",
       "       [2, 2],\n",
       "       [3, 3],\n",
       "       [2, 2],\n",
       "       [1, 1],\n",
       "       [1, 1],\n",
       "       [2, 2],\n",
       "       [1, 1],\n",
       "       [2, 2],\n",
       "       [1, 1],\n",
       "       [1, 1],\n",
       "       [2, 2],\n",
       "       [2, 2],\n",
       "       [2, 2],\n",
       "       [2, 2],\n",
       "       [2, 2],\n",
       "       [2, 2],\n",
       "       [3, 3],\n",
       "       [1, 1],\n",
       "       [1, 1],\n",
       "       [2, 2],\n",
       "       [1, 1],\n",
       "       [1, 1],\n",
       "       [1, 1]])"
      ]
     },
     "execution_count": 10,
     "metadata": {},
     "output_type": "execute_result"
    }
   ],
   "source": [
    "dependent_pred = classifier.predict(independent_test_scal_kpca)\n",
    "np.stack((dependent_test, dependent_pred), axis=1)"
   ]
  },
  {
   "cell_type": "markdown",
   "id": "challenging-report",
   "metadata": {},
   "source": [
    "# Making ConfusionMatrix, Checking Accuracy"
   ]
  },
  {
   "cell_type": "code",
   "execution_count": 11,
   "id": "charged-builder",
   "metadata": {},
   "outputs": [
    {
     "name": "stdout",
     "output_type": "stream",
     "text": [
      "[[14  0  0]\n",
      " [ 0 16  0]\n",
      " [ 0  0  6]]\n",
      "1.0\n"
     ]
    }
   ],
   "source": [
    "from sklearn.metrics import confusion_matrix, accuracy_score\n",
    "cm = confusion_matrix(dependent_test, dependent_pred)\n",
    "ac = accuracy_score(dependent_test, dependent_pred)\n",
    "print(cm)\n",
    "print(ac)"
   ]
  },
  {
   "cell_type": "code",
   "execution_count": null,
   "id": "macro-pathology",
   "metadata": {},
   "outputs": [],
   "source": []
  }
 ],
 "metadata": {
  "kernelspec": {
   "display_name": "Python 3",
   "language": "python",
   "name": "python3"
  },
  "language_info": {
   "codemirror_mode": {
    "name": "ipython",
    "version": 3
   },
   "file_extension": ".py",
   "mimetype": "text/x-python",
   "name": "python",
   "nbconvert_exporter": "python",
   "pygments_lexer": "ipython3",
   "version": "3.9.1"
  }
 },
 "nbformat": 4,
 "nbformat_minor": 5
}
