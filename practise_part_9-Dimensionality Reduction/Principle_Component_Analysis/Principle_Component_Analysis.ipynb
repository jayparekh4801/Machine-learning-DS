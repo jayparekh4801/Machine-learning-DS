{
 "cells": [
  {
   "cell_type": "markdown",
   "id": "unique-prayer",
   "metadata": {},
   "source": [
    "# Importing Libraries"
   ]
  },
  {
   "cell_type": "code",
   "execution_count": 1,
   "id": "original-knock",
   "metadata": {},
   "outputs": [],
   "source": [
    "import numpy as np\n",
    "import pandas as pd\n",
    "import matplotlib.pyplot as plt"
   ]
  },
  {
   "cell_type": "markdown",
   "id": "velvet-affect",
   "metadata": {},
   "source": [
    "# Importing Dataset"
   ]
  },
  {
   "cell_type": "code",
   "execution_count": 2,
   "id": "floppy-nirvana",
   "metadata": {},
   "outputs": [],
   "source": [
    "dataset = pd.read_csv(\"./Wine.csv\")\n",
    "independent = dataset.iloc[ : , : -1].values\n",
    "dependent = dataset.iloc[ : , -1].values"
   ]
  },
  {
   "cell_type": "markdown",
   "id": "swiss-lounge",
   "metadata": {},
   "source": [
    "# Splitting Dataset Into Test Set And Training Set"
   ]
  },
  {
   "cell_type": "code",
   "execution_count": 3,
   "id": "continued-lottery",
   "metadata": {},
   "outputs": [],
   "source": [
    "from sklearn.model_selection import train_test_split\n",
    "independent_train, independent_test, dependent_train, dependent_test = train_test_split(independent, dependent, random_state=0, test_size=0.2) "
   ]
  },
  {
   "cell_type": "markdown",
   "id": "variable-metabolism",
   "metadata": {},
   "source": [
    "# Feature Scaling"
   ]
  },
  {
   "cell_type": "code",
   "execution_count": 4,
   "id": "asian-envelope",
   "metadata": {},
   "outputs": [],
   "source": [
    "from sklearn.preprocessing import StandardScaler\n",
    "scalar = StandardScaler()\n",
    "independent_train_scal = scalar.fit_transform(independent_train)\n",
    "independent_test_scal  = scalar.transform(independent_test)"
   ]
  },
  {
   "cell_type": "markdown",
   "id": "bronze-reservoir",
   "metadata": {},
   "source": [
    "# Applying PCA"
   ]
  },
  {
   "cell_type": "code",
   "execution_count": 5,
   "id": "straight-merit",
   "metadata": {},
   "outputs": [],
   "source": [
    "from sklearn.decomposition import PCA\n",
    "pca = PCA(n_components = 2)\n",
    "independent_train_scal_pca = pca.fit_transform(independent_train_scal)\n",
    "independent_test_scal_pca = pca.transform(independent_test_scal)"
   ]
  },
  {
   "cell_type": "markdown",
   "id": "innovative-mathematics",
   "metadata": {},
   "source": [
    "# Making Logistic Regression Model"
   ]
  },
  {
   "cell_type": "code",
   "execution_count": 6,
   "id": "loving-conjunction",
   "metadata": {},
   "outputs": [
    {
     "data": {
      "text/plain": [
       "LogisticRegression(random_state=0)"
      ]
     },
     "execution_count": 6,
     "metadata": {},
     "output_type": "execute_result"
    }
   ],
   "source": [
    "from sklearn.linear_model import LogisticRegression\n",
    "classifier = LogisticRegression(random_state = 0)\n",
    "classifier.fit(independent_train_scal_pca, dependent_train)"
   ]
  },
  {
   "cell_type": "code",
   "execution_count": 7,
   "id": "abstract-facial",
   "metadata": {},
   "outputs": [
    {
     "data": {
      "text/plain": [
       "array([[ 2.20685211e+00, -1.02850086e+00],\n",
       "       [-2.53651962e+00, -1.83644227e+00],\n",
       "       [ 2.19183305e+00,  1.81240519e+00],\n",
       "       [ 2.51489251e+00, -1.38907803e+00],\n",
       "       [-3.47991313e-01,  5.25397912e-01],\n",
       "       [ 1.44174066e+00, -2.89674514e-01],\n",
       "       [ 2.11892046e+00, -1.62960181e+00],\n",
       "       [-3.06045961e+00, -6.70950629e-01],\n",
       "       [-2.35436876e-01,  2.16810201e+00],\n",
       "       [-1.21230749e+00,  2.12204944e+00],\n",
       "       [-2.20706720e+00, -2.61457262e-01],\n",
       "       [-4.19759580e+00, -5.36505538e-01],\n",
       "       [ 3.11063501e+00, -2.26380692e+00],\n",
       "       [ 2.39878282e+00,  1.29482006e+00],\n",
       "       [-2.16102953e+00, -1.95327620e+00],\n",
       "       [ 9.26627235e-01,  3.35678339e+00],\n",
       "       [ 1.96950425e+00, -1.65130081e+00],\n",
       "       [ 3.61413167e+00, -2.68087967e+00],\n",
       "       [-1.71986182e+00,  9.29936963e-01],\n",
       "       [ 2.93212799e+00, -8.79320756e-01],\n",
       "       [ 2.36911995e+00,  1.73171845e+00],\n",
       "       [ 1.23368522e+00, -1.56525793e-01],\n",
       "       [ 1.07525557e+00, -8.97240861e-01],\n",
       "       [ 5.30182248e-01,  2.07877544e+00],\n",
       "       [-1.39577506e+00,  1.45769587e+00],\n",
       "       [-1.31398888e-01,  1.92300751e+00],\n",
       "       [ 1.63520155e-01,  1.20901871e+00],\n",
       "       [-6.57932499e-01,  2.26380220e+00],\n",
       "       [-1.17987065e+00,  8.18306993e-01],\n",
       "       [-2.90894649e+00, -1.42996829e+00],\n",
       "       [ 1.87424562e+00, -8.00289998e-01],\n",
       "       [ 2.78042761e+00, -1.51686134e+00],\n",
       "       [-1.64977882e+00,  1.13772685e+00],\n",
       "       [ 1.20470322e+00, -1.83160348e+00],\n",
       "       [ 2.58037819e+00, -1.06341435e+00],\n",
       "       [ 2.18512179e+00, -5.10806875e-04]])"
      ]
     },
     "execution_count": 7,
     "metadata": {},
     "output_type": "execute_result"
    }
   ],
   "source": [
    "independent_test_scal_pca"
   ]
  },
  {
   "cell_type": "code",
   "execution_count": 8,
   "id": "fleet-vampire",
   "metadata": {},
   "outputs": [
    {
     "data": {
      "text/plain": [
       "array([3, 2, 2, 3, 1, 1, 2, 2, 2, 1, 3, 2, 3, 1, 3, 3, 1, 3, 1, 2, 3, 3,\n",
       "       2, 3, 3, 1, 2, 3, 2, 2, 3, 2, 1, 2, 2, 2, 1, 1, 2, 2, 3, 3, 2, 2,\n",
       "       2, 3, 3, 1, 3, 2, 2, 2, 2, 2, 1, 1, 2, 1, 3, 1, 3, 1, 1, 2, 1, 2,\n",
       "       2, 1, 3, 2, 1, 2, 2, 2, 3, 1, 3, 3, 1, 1, 2, 3, 1, 1, 2, 2, 1, 1,\n",
       "       1, 3, 2, 1, 2, 3, 1, 2, 3, 3, 1, 1, 3, 1, 3, 2, 1, 1, 2, 1, 3, 2,\n",
       "       3, 1, 3, 3, 3, 1, 2, 2, 2, 2, 3, 3, 2, 2, 1, 2, 3, 3, 1, 1, 3, 2,\n",
       "       2, 2, 1, 1, 1, 2, 2, 2, 1, 3])"
      ]
     },
     "execution_count": 8,
     "metadata": {},
     "output_type": "execute_result"
    }
   ],
   "source": [
    "dependent_train"
   ]
  },
  {
   "cell_type": "markdown",
   "id": "indie-italic",
   "metadata": {},
   "source": [
    "# Predicting Test Set Values"
   ]
  },
  {
   "cell_type": "code",
   "execution_count": 10,
   "id": "desirable-behalf",
   "metadata": {},
   "outputs": [
    {
     "data": {
      "text/plain": [
       "array([[1, 1],\n",
       "       [3, 3],\n",
       "       [2, 2],\n",
       "       [1, 1],\n",
       "       [2, 2],\n",
       "       [2, 1],\n",
       "       [1, 1],\n",
       "       [3, 3],\n",
       "       [2, 2],\n",
       "       [2, 2],\n",
       "       [3, 3],\n",
       "       [3, 3],\n",
       "       [1, 1],\n",
       "       [2, 2],\n",
       "       [3, 3],\n",
       "       [2, 2],\n",
       "       [1, 1],\n",
       "       [1, 1],\n",
       "       [2, 2],\n",
       "       [1, 1],\n",
       "       [2, 2],\n",
       "       [1, 1],\n",
       "       [1, 1],\n",
       "       [2, 2],\n",
       "       [2, 2],\n",
       "       [2, 2],\n",
       "       [2, 2],\n",
       "       [2, 2],\n",
       "       [2, 2],\n",
       "       [3, 3],\n",
       "       [1, 1],\n",
       "       [1, 1],\n",
       "       [2, 2],\n",
       "       [1, 1],\n",
       "       [1, 1],\n",
       "       [1, 1]])"
      ]
     },
     "execution_count": 10,
     "metadata": {},
     "output_type": "execute_result"
    }
   ],
   "source": [
    "dependent_pred = classifier.predict(independent_test_scal_pca)\n",
    "np.stack((dependent_test, dependent_pred), axis=1)"
   ]
  },
  {
   "cell_type": "markdown",
   "id": "rapid-handle",
   "metadata": {},
   "source": [
    "# Making Confusion Matrix, Checking Acuracy"
   ]
  },
  {
   "cell_type": "code",
   "execution_count": 11,
   "id": "loaded-protocol",
   "metadata": {},
   "outputs": [
    {
     "name": "stdout",
     "output_type": "stream",
     "text": [
      "[[14  0  0]\n",
      " [ 1 15  0]\n",
      " [ 0  0  6]]\n",
      "0.9722222222222222\n"
     ]
    }
   ],
   "source": [
    "from sklearn.metrics import confusion_matrix, accuracy_score\n",
    "cm = confusion_matrix(dependent_test, dependent_pred)\n",
    "ac = accuracy_score(dependent_test, dependent_pred)\n",
    "print(cm)\n",
    "print(ac)"
   ]
  },
  {
   "cell_type": "code",
   "execution_count": null,
   "id": "catholic-residence",
   "metadata": {},
   "outputs": [],
   "source": []
  }
 ],
 "metadata": {
  "kernelspec": {
   "display_name": "Python 3",
   "language": "python",
   "name": "python3"
  },
  "language_info": {
   "codemirror_mode": {
    "name": "ipython",
    "version": 3
   },
   "file_extension": ".py",
   "mimetype": "text/x-python",
   "name": "python",
   "nbconvert_exporter": "python",
   "pygments_lexer": "ipython3",
   "version": "3.9.1"
  }
 },
 "nbformat": 4,
 "nbformat_minor": 5
}
