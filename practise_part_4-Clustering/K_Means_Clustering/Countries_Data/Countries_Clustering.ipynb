{
 "cells": [
  {
   "cell_type": "markdown",
   "id": "sustained-cleveland",
   "metadata": {},
   "source": [
    "# Importing Libraries"
   ]
  },
  {
   "cell_type": "code",
   "execution_count": 1,
   "id": "confidential-membership",
   "metadata": {},
   "outputs": [],
   "source": [
    "import numpy as np\n",
    "import pandas as pd\n",
    "import matplotlib.pyplot as plt"
   ]
  },
  {
   "cell_type": "markdown",
   "id": "wrapped-jungle",
   "metadata": {},
   "source": [
    "# Importing Datasets"
   ]
  },
  {
   "cell_type": "code",
   "execution_count": 2,
   "id": "sound-cleanup",
   "metadata": {},
   "outputs": [],
   "source": [
    "dataset = pd.read_csv('./Country-data.csv')"
   ]
  },
  {
   "cell_type": "markdown",
   "id": "noted-cliff",
   "metadata": {},
   "source": [
    "# Performing Hash Encoding For Coutnry names "
   ]
  },
  {
   "cell_type": "code",
   "execution_count": 4,
   "id": "beginning-pricing",
   "metadata": {},
   "outputs": [],
   "source": [
    "import category_encoders as ce\n",
    "encoder = ce.HashingEncoder(cols = \"country\", n_components = 8)\n",
    "features = encoder.fit_transform(dataset)"
   ]
  },
  {
   "cell_type": "code",
   "execution_count": 5,
   "id": "liable-result",
   "metadata": {},
   "outputs": [
    {
     "name": "stdout",
     "output_type": "stream",
     "text": [
      "     col_0  col_1  col_2  col_3  col_4  col_5  col_6  col_7  child_mort  \\\n",
      "0        0      0      0      0      0      0      0      1        90.2   \n",
      "1        0      0      0      0      1      0      0      0        16.6   \n",
      "2        0      1      0      0      0      0      0      0        27.3   \n",
      "3        0      0      0      0      0      0      0      1       119.0   \n",
      "4        0      0      0      1      0      0      0      0        10.3   \n",
      "..     ...    ...    ...    ...    ...    ...    ...    ...         ...   \n",
      "162      1      0      0      0      0      0      0      0        29.2   \n",
      "163      1      0      0      0      0      0      0      0        17.1   \n",
      "164      0      1      0      0      0      0      0      0        23.3   \n",
      "165      0      0      0      0      0      0      0      1        56.3   \n",
      "166      0      0      0      0      1      0      0      0        83.1   \n",
      "\n",
      "     exports  health  imports  income  inflation  life_expec  total_fer   gdpp  \n",
      "0       10.0    7.58     44.9    1610       9.44        56.2       5.82    553  \n",
      "1       28.0    6.55     48.6    9930       4.49        76.3       1.65   4090  \n",
      "2       38.4    4.17     31.4   12900      16.10        76.5       2.89   4460  \n",
      "3       62.3    2.85     42.9    5900      22.40        60.1       6.16   3530  \n",
      "4       45.5    6.03     58.9   19100       1.44        76.8       2.13  12200  \n",
      "..       ...     ...      ...     ...        ...         ...        ...    ...  \n",
      "162     46.6    5.25     52.7    2950       2.62        63.0       3.50   2970  \n",
      "163     28.5    4.91     17.6   16500      45.90        75.4       2.47  13500  \n",
      "164     72.0    6.84     80.2    4490      12.10        73.1       1.95   1310  \n",
      "165     30.0    5.18     34.4    4480      23.60        67.5       4.67   1310  \n",
      "166     37.0    5.89     30.9    3280      14.00        52.0       5.40   1460  \n",
      "\n",
      "[167 rows x 17 columns]\n"
     ]
    }
   ],
   "source": [
    "print(features)"
   ]
  },
  {
   "cell_type": "markdown",
   "id": "divine-intent",
   "metadata": {},
   "source": [
    "# Using Elbow Method To Find The Optimal Clusters"
   ]
  },
  {
   "cell_type": "code",
   "execution_count": 7,
   "id": "unique-sweet",
   "metadata": {},
   "outputs": [
    {
     "data": {
      "text/plain": [
       "[]"
      ]
     },
     "execution_count": 7,
     "metadata": {},
     "output_type": "execute_result"
    },
    {
     "data": {
      "image/png": "[encoded data removed]",
      "text/plain": [
       "<Figure size 432x288 with 1 Axes>"
      ]
     },
     "metadata": {
      "needs_background": "light"
     },
     "output_type": "display_data"
    }
   ],
   "source": [
    "from sklearn.cluster import KMeans\n",
    "wcss = []\n",
    "for i in range(1, 11) :\n",
    "    kmeans = KMeans(n_clusters=i, init = \"k-means++\", random_state=42)\n",
    "    kmeans.fit(features)\n",
    "    wcss.append(kmeans.inertia_)\n",
    "\n",
    "plt.plot(range(1, 11), wcss)\n",
    "plt.xlabel(\"clusters\")\n",
    "plt.ylabel(\"WCSS\")\n",
    "plt.plot()"
   ]
  },
  {
   "cell_type": "markdown",
   "id": "possible-french",
   "metadata": {},
   "source": [
    "# Making K-Means Clustering Model"
   ]
  },
  {
   "cell_type": "code",
   "execution_count": 8,
   "id": "trained-lancaster",
   "metadata": {},
   "outputs": [
    {
     "name": "stdout",
     "output_type": "stream",
     "text": [
      "[0 0 0 0 0 0 0 1 1 0 0 1 0 0 0 1 0 0 0 0 0 0 0 1 0 0 0 0 0 1 0 0 0 0 0 0 0\n",
      " 0 0 0 0 0 1 0 1 0 0 0 0 0 0 0 0 1 1 0 0 0 1 0 1 0 0 0 0 0 0 0 1 0 0 0 0 1\n",
      " 1 1 0 1 0 0 0 0 1 0 0 0 0 0 0 0 0 1 0 0 0 0 0 0 0 0 0 0 0 0 0 0 0 0 0 0 1\n",
      " 1 0 0 1 1 0 0 0 0 0 0 0 1 0 0 0 0 1 0 0 0 0 1 0 0 0 0 0 1 0 0 0 0 1 1 0 0\n",
      " 0 0 0 0 0 0 0 0 0 1 1 1 0 0 0 0 0 0 0]\n"
     ]
    }
   ],
   "source": [
    "kMeans = KMeans(n_clusters=2, init=\"k-means++\", random_state=42)\n",
    "feature_pred = kMeans.fit_predict(features)\n",
    "print(feature_pred)"
   ]
  },
  {
   "cell_type": "code",
   "execution_count": 10,
   "id": "boring-monitor",
   "metadata": {},
   "outputs": [
    {
     "data": {
      "text/plain": [
       "array([['Afghanistan', 0],\n",
       "       ['Albania', 0],\n",
       "       ['Algeria', 0],\n",
       "       ['Angola', 0],\n",
       "       ['Antigua and Barbuda', 0],\n",
       "       ['Argentina', 0],\n",
       "       ['Armenia', 0],\n",
       "       ['Australia', 1],\n",
       "       ['Austria', 1],\n",
       "       ['Azerbaijan', 0],\n",
       "       ['Bahamas', 0],\n",
       "       ['Bahrain', 1],\n",
       "       ['Bangladesh', 0],\n",
       "       ['Barbados', 0],\n",
       "       ['Belarus', 0],\n",
       "       ['Belgium', 1],\n",
       "       ['Belize', 0],\n",
       "       ['Benin', 0],\n",
       "       ['Bhutan', 0],\n",
       "       ['Bolivia', 0],\n",
       "       ['Bosnia and Herzegovina', 0],\n",
       "       ['Botswana', 0],\n",
       "       ['Brazil', 0],\n",
       "       ['Brunei', 1],\n",
       "       ['Bulgaria', 0],\n",
       "       ['Burkina Faso', 0],\n",
       "       ['Burundi', 0],\n",
       "       ['Cambodia', 0],\n",
       "       ['Cameroon', 0],\n",
       "       ['Canada', 1],\n",
       "       ['Cape Verde', 0],\n",
       "       ['Central African Republic', 0],\n",
       "       ['Chad', 0],\n",
       "       ['Chile', 0],\n",
       "       ['China', 0],\n",
       "       ['Colombia', 0],\n",
       "       ['Comoros', 0],\n",
       "       ['Congo, Dem. Rep.', 0],\n",
       "       ['Congo, Rep.', 0],\n",
       "       ['Costa Rica', 0],\n",
       "       [\"Cote d'Ivoire\", 0],\n",
       "       ['Croatia', 0],\n",
       "       ['Cyprus', 1],\n",
       "       ['Czech Republic', 0],\n",
       "       ['Denmark', 1],\n",
       "       ['Dominican Republic', 0],\n",
       "       ['Ecuador', 0],\n",
       "       ['Egypt', 0],\n",
       "       ['El Salvador', 0],\n",
       "       ['Equatorial Guinea', 0],\n",
       "       ['Eritrea', 0],\n",
       "       ['Estonia', 0],\n",
       "       ['Fiji', 0],\n",
       "       ['Finland', 1],\n",
       "       ['France', 1],\n",
       "       ['Gabon', 0],\n",
       "       ['Gambia', 0],\n",
       "       ['Georgia', 0],\n",
       "       ['Germany', 1],\n",
       "       ['Ghana', 0],\n",
       "       ['Greece', 1],\n",
       "       ['Grenada', 0],\n",
       "       ['Guatemala', 0],\n",
       "       ['Guinea', 0],\n",
       "       ['Guinea-Bissau', 0],\n",
       "       ['Guyana', 0],\n",
       "       ['Haiti', 0],\n",
       "       ['Hungary', 0],\n",
       "       ['Iceland', 1],\n",
       "       ['India', 0],\n",
       "       ['Indonesia', 0],\n",
       "       ['Iran', 0],\n",
       "       ['Iraq', 0],\n",
       "       ['Ireland', 1],\n",
       "       ['Israel', 1],\n",
       "       ['Italy', 1],\n",
       "       ['Jamaica', 0],\n",
       "       ['Japan', 1],\n",
       "       ['Jordan', 0],\n",
       "       ['Kazakhstan', 0],\n",
       "       ['Kenya', 0],\n",
       "       ['Kiribati', 0],\n",
       "       ['Kuwait', 1],\n",
       "       ['Kyrgyz Republic', 0],\n",
       "       ['Lao', 0],\n",
       "       ['Latvia', 0],\n",
       "       ['Lebanon', 0],\n",
       "       ['Lesotho', 0],\n",
       "       ['Liberia', 0],\n",
       "       ['Libya', 0],\n",
       "       ['Lithuania', 0],\n",
       "       ['Luxembourg', 1],\n",
       "       ['Macedonia, FYR', 0],\n",
       "       ['Madagascar', 0],\n",
       "       ['Malawi', 0],\n",
       "       ['Malaysia', 0],\n",
       "       ['Maldives', 0],\n",
       "       ['Mali', 0],\n",
       "       ['Malta', 0],\n",
       "       ['Mauritania', 0],\n",
       "       ['Mauritius', 0],\n",
       "       ['Micronesia, Fed. Sts.', 0],\n",
       "       ['Moldova', 0],\n",
       "       ['Mongolia', 0],\n",
       "       ['Montenegro', 0],\n",
       "       ['Morocco', 0],\n",
       "       ['Mozambique', 0],\n",
       "       ['Myanmar', 0],\n",
       "       ['Namibia', 0],\n",
       "       ['Nepal', 0],\n",
       "       ['Netherlands', 1],\n",
       "       ['New Zealand', 1],\n",
       "       ['Niger', 0],\n",
       "       ['Nigeria', 0],\n",
       "       ['Norway', 1],\n",
       "       ['Oman', 1],\n",
       "       ['Pakistan', 0],\n",
       "       ['Panama', 0],\n",
       "       ['Paraguay', 0],\n",
       "       ['Peru', 0],\n",
       "       ['Philippines', 0],\n",
       "       ['Poland', 0],\n",
       "       ['Portugal', 0],\n",
       "       ['Qatar', 1],\n",
       "       ['Romania', 0],\n",
       "       ['Russia', 0],\n",
       "       ['Rwanda', 0],\n",
       "       ['Samoa', 0],\n",
       "       ['Saudi Arabia', 1],\n",
       "       ['Senegal', 0],\n",
       "       ['Serbia', 0],\n",
       "       ['Seychelles', 0],\n",
       "       ['Sierra Leone', 0],\n",
       "       ['Singapore', 1],\n",
       "       ['Slovak Republic', 0],\n",
       "       ['Slovenia', 0],\n",
       "       ['Solomon Islands', 0],\n",
       "       ['South Africa', 0],\n",
       "       ['South Korea', 0],\n",
       "       ['Spain', 1],\n",
       "       ['Sri Lanka', 0],\n",
       "       ['St. Vincent and the Grenadines', 0],\n",
       "       ['Sudan', 0],\n",
       "       ['Suriname', 0],\n",
       "       ['Sweden', 1],\n",
       "       ['Switzerland', 1],\n",
       "       ['Tajikistan', 0],\n",
       "       ['Tanzania', 0],\n",
       "       ['Thailand', 0],\n",
       "       ['Timor-Leste', 0],\n",
       "       ['Togo', 0],\n",
       "       ['Tonga', 0],\n",
       "       ['Tunisia', 0],\n",
       "       ['Turkey', 0],\n",
       "       ['Turkmenistan', 0],\n",
       "       ['Uganda', 0],\n",
       "       ['Ukraine', 0],\n",
       "       ['United Arab Emirates', 1],\n",
       "       ['United Kingdom', 1],\n",
       "       ['United States', 1],\n",
       "       ['Uruguay', 0],\n",
       "       ['Uzbekistan', 0],\n",
       "       ['Vanuatu', 0],\n",
       "       ['Venezuela', 0],\n",
       "       ['Vietnam', 0],\n",
       "       ['Yemen', 0],\n",
       "       ['Zambia', 0]], dtype=object)"
      ]
     },
     "execution_count": 10,
     "metadata": {},
     "output_type": "execute_result"
    }
   ],
   "source": [
    "np.stack((dataset.iloc[:, 0].values, feature_pred), axis = 1)"
   ]
  },
  {
   "cell_type": "code",
   "execution_count": null,
   "id": "emotional-extraction",
   "metadata": {},
   "outputs": [],
   "source": []
  }
 ],
 "metadata": {
  "kernelspec": {
   "display_name": "Python 3",
   "language": "python",
   "name": "python3"
  },
  "language_info": {
   "codemirror_mode": {
    "name": "ipython",
    "version": 3
   },
   "file_extension": ".py",
   "mimetype": "text/x-python",
   "name": "python",
   "nbconvert_exporter": "python",
   "pygments_lexer": "ipython3",
   "version": "3.9.1"
  }
 },
 "nbformat": 4,
 "nbformat_minor": 5
}
