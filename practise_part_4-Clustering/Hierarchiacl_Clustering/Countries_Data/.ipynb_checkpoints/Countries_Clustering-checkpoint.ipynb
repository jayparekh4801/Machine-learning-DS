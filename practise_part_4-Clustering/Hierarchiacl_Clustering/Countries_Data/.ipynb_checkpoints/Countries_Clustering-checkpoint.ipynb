{
 "cells": [
  {
   "cell_type": "markdown",
   "id": "adult-woman",
   "metadata": {},
   "source": [
    "# Importing Libraries"
   ]
  },
  {
   "cell_type": "code",
   "execution_count": 1,
   "id": "former-passing",
   "metadata": {},
   "outputs": [],
   "source": [
    "import pandas as pd\n",
    "import numpy as np\n",
    "import matplotlib.pyplot as plt"
   ]
  },
  {
   "cell_type": "markdown",
   "id": "wireless-garbage",
   "metadata": {},
   "source": [
    "# Importing Dataset"
   ]
  },
  {
   "cell_type": "code",
   "execution_count": 2,
   "id": "distinct-positive",
   "metadata": {},
   "outputs": [],
   "source": [
    "dataset = pd.read_csv('./Country-data.csv')"
   ]
  },
  {
   "cell_type": "markdown",
   "id": "expanded-ultimate",
   "metadata": {},
   "source": [
    "# Performing OneHotEncoding"
   ]
  },
  {
   "cell_type": "code",
   "execution_count": 3,
   "id": "auburn-tolerance",
   "metadata": {},
   "outputs": [],
   "source": [
    "import category_encoders as ce\n",
    "encoder = ce.HashingEncoder(cols='country', n_components=8)"
   ]
  },
  {
   "cell_type": "code",
   "execution_count": 4,
   "id": "under-opposition",
   "metadata": {},
   "outputs": [
    {
     "name": "stdout",
     "output_type": "stream",
     "text": [
      "     col_0  col_1  col_2  col_3  col_4  col_5  col_6  col_7  child_mort  \\\n",
      "0        0      0      0      0      0      0      0      1        90.2   \n",
      "1        0      0      0      0      1      0      0      0        16.6   \n",
      "2        0      1      0      0      0      0      0      0        27.3   \n",
      "3        0      0      0      0      0      0      0      1       119.0   \n",
      "4        0      0      0      1      0      0      0      0        10.3   \n",
      "..     ...    ...    ...    ...    ...    ...    ...    ...         ...   \n",
      "162      1      0      0      0      0      0      0      0        29.2   \n",
      "163      1      0      0      0      0      0      0      0        17.1   \n",
      "164      0      1      0      0      0      0      0      0        23.3   \n",
      "165      0      0      0      0      0      0      0      1        56.3   \n",
      "166      0      0      0      0      1      0      0      0        83.1   \n",
      "\n",
      "     exports  health  imports  income  inflation  life_expec  total_fer   gdpp  \n",
      "0       10.0    7.58     44.9    1610       9.44        56.2       5.82    553  \n",
      "1       28.0    6.55     48.6    9930       4.49        76.3       1.65   4090  \n",
      "2       38.4    4.17     31.4   12900      16.10        76.5       2.89   4460  \n",
      "3       62.3    2.85     42.9    5900      22.40        60.1       6.16   3530  \n",
      "4       45.5    6.03     58.9   19100       1.44        76.8       2.13  12200  \n",
      "..       ...     ...      ...     ...        ...         ...        ...    ...  \n",
      "162     46.6    5.25     52.7    2950       2.62        63.0       3.50   2970  \n",
      "163     28.5    4.91     17.6   16500      45.90        75.4       2.47  13500  \n",
      "164     72.0    6.84     80.2    4490      12.10        73.1       1.95   1310  \n",
      "165     30.0    5.18     34.4    4480      23.60        67.5       4.67   1310  \n",
      "166     37.0    5.89     30.9    3280      14.00        52.0       5.40   1460  \n",
      "\n",
      "[167 rows x 17 columns]\n"
     ]
    }
   ],
   "source": [
    "features = encoder.fit_transform(dataset)"
   ]
  },
  {
   "cell_type": "code",
   "execution_count": 5,
   "id": "intelligent-israel",
   "metadata": {},
   "outputs": [
    {
     "name": "stdout",
     "output_type": "stream",
     "text": [
      "     col_0  col_1  col_2  col_3  col_4  col_5  col_6  col_7  child_mort  \\\n",
      "0        0      0      0      0      0      0      0      1        90.2   \n",
      "1        0      0      0      0      1      0      0      0        16.6   \n",
      "2        0      1      0      0      0      0      0      0        27.3   \n",
      "3        0      0      0      0      0      0      0      1       119.0   \n",
      "4        0      0      0      1      0      0      0      0        10.3   \n",
      "..     ...    ...    ...    ...    ...    ...    ...    ...         ...   \n",
      "162      1      0      0      0      0      0      0      0        29.2   \n",
      "163      1      0      0      0      0      0      0      0        17.1   \n",
      "164      0      1      0      0      0      0      0      0        23.3   \n",
      "165      0      0      0      0      0      0      0      1        56.3   \n",
      "166      0      0      0      0      1      0      0      0        83.1   \n",
      "\n",
      "     exports  health  imports  income  inflation  life_expec  total_fer   gdpp  \n",
      "0       10.0    7.58     44.9    1610       9.44        56.2       5.82    553  \n",
      "1       28.0    6.55     48.6    9930       4.49        76.3       1.65   4090  \n",
      "2       38.4    4.17     31.4   12900      16.10        76.5       2.89   4460  \n",
      "3       62.3    2.85     42.9    5900      22.40        60.1       6.16   3530  \n",
      "4       45.5    6.03     58.9   19100       1.44        76.8       2.13  12200  \n",
      "..       ...     ...      ...     ...        ...         ...        ...    ...  \n",
      "162     46.6    5.25     52.7    2950       2.62        63.0       3.50   2970  \n",
      "163     28.5    4.91     17.6   16500      45.90        75.4       2.47  13500  \n",
      "164     72.0    6.84     80.2    4490      12.10        73.1       1.95   1310  \n",
      "165     30.0    5.18     34.4    4480      23.60        67.5       4.67   1310  \n",
      "166     37.0    5.89     30.9    3280      14.00        52.0       5.40   1460  \n",
      "\n",
      "[167 rows x 17 columns]\n"
     ]
    }
   ],
   "source": [
    "print(features)"
   ]
  },
  {
   "cell_type": "markdown",
   "id": "thermal-desktop",
   "metadata": {},
   "source": [
    "# Use Dendrogram To Know The Number Of Optimal clusters"
   ]
  },
  {
   "cell_type": "code",
   "execution_count": 6,
   "id": "heated-label",
   "metadata": {},
   "outputs": [
    {
     "data": {
      "text/plain": [
       "[]"
      ]
     },
     "execution_count": 6,
     "metadata": {},
     "output_type": "execute_result"
    },
    {
     "data": {
      "image/png": "[encoded data removed]",
      "text/plain": [
       "<Figure size 432x288 with 1 Axes>"
      ]
     },
     "metadata": {
      "needs_background": "light"
     },
     "output_type": "display_data"
    }
   ],
   "source": [
    "import scipy.cluster.hierarchy as sch\n",
    "dendrogram = sch.dendrogram(sch.linkage(features, method = \"ward\"))\n",
    "plt.title('dendrogram')\n",
    "plt.xlabel(\"countries\")\n",
    "plt.ylabel(\"euclidian distance\")\n",
    "plt.plot()"
   ]
  },
  {
   "cell_type": "markdown",
   "id": "split-coupon",
   "metadata": {},
   "source": [
    "# Making Clustering Model"
   ]
  },
  {
   "cell_type": "code",
   "execution_count": 8,
   "id": "korean-camping",
   "metadata": {},
   "outputs": [],
   "source": [
    "from sklearn.cluster import AgglomerativeClustering\n",
    "hc = AgglomerativeClustering(n_clusters=4, affinity=\"euclidean\", linkage=\"ward\")\n",
    "pred_features = hc.fit_predict(features)"
   ]
  },
  {
   "cell_type": "code",
   "execution_count": 9,
   "id": "three-church",
   "metadata": {},
   "outputs": [
    {
     "name": "stdout",
     "output_type": "stream",
     "text": [
      "[2 2 2 2 3 3 2 0 0 2 3 3 2 3 2 0 2 2 2 2 2 2 3 0 2 2 2 2 2 0 2 2 2 3 2 2 2\n",
      " 2 2 2 2 3 3 3 0 2 2 2 2 3 2 3 2 0 0 2 2 2 0 2 3 2 2 2 2 2 2 3 0 2 2 2 2 0\n",
      " 3 0 2 0 2 3 2 2 0 2 2 3 2 2 2 3 3 1 2 2 2 3 2 2 3 2 2 2 2 2 2 2 2 2 2 2 0\n",
      " 3 2 2 1 3 2 2 2 2 2 3 3 1 2 3 2 2 3 2 2 3 2 0 3 3 2 2 3 3 2 2 2 2 0 1 2 2\n",
      " 2 2 2 2 2 3 2 2 2 0 0 0 3 2 2 3 2 2 2]\n"
     ]
    }
   ],
   "source": [
    "print(pred_features)"
   ]
  },
  {
   "cell_type": "code",
   "execution_count": 11,
   "id": "proof-emphasis",
   "metadata": {},
   "outputs": [
    {
     "data": {
      "text/plain": [
       "array([['Afghanistan', 2],\n",
       "       ['Albania', 2],\n",
       "       ['Algeria', 2],\n",
       "       ['Angola', 2],\n",
       "       ['Antigua and Barbuda', 3],\n",
       "       ['Argentina', 3],\n",
       "       ['Armenia', 2],\n",
       "       ['Australia', 0],\n",
       "       ['Austria', 0],\n",
       "       ['Azerbaijan', 2],\n",
       "       ['Bahamas', 3],\n",
       "       ['Bahrain', 3],\n",
       "       ['Bangladesh', 2],\n",
       "       ['Barbados', 3],\n",
       "       ['Belarus', 2],\n",
       "       ['Belgium', 0],\n",
       "       ['Belize', 2],\n",
       "       ['Benin', 2],\n",
       "       ['Bhutan', 2],\n",
       "       ['Bolivia', 2],\n",
       "       ['Bosnia and Herzegovina', 2],\n",
       "       ['Botswana', 2],\n",
       "       ['Brazil', 3],\n",
       "       ['Brunei', 0],\n",
       "       ['Bulgaria', 2],\n",
       "       ['Burkina Faso', 2],\n",
       "       ['Burundi', 2],\n",
       "       ['Cambodia', 2],\n",
       "       ['Cameroon', 2],\n",
       "       ['Canada', 0],\n",
       "       ['Cape Verde', 2],\n",
       "       ['Central African Republic', 2],\n",
       "       ['Chad', 2],\n",
       "       ['Chile', 3],\n",
       "       ['China', 2],\n",
       "       ['Colombia', 2],\n",
       "       ['Comoros', 2],\n",
       "       ['Congo, Dem. Rep.', 2],\n",
       "       ['Congo, Rep.', 2],\n",
       "       ['Costa Rica', 2],\n",
       "       [\"Cote d'Ivoire\", 2],\n",
       "       ['Croatia', 3],\n",
       "       ['Cyprus', 3],\n",
       "       ['Czech Republic', 3],\n",
       "       ['Denmark', 0],\n",
       "       ['Dominican Republic', 2],\n",
       "       ['Ecuador', 2],\n",
       "       ['Egypt', 2],\n",
       "       ['El Salvador', 2],\n",
       "       ['Equatorial Guinea', 3],\n",
       "       ['Eritrea', 2],\n",
       "       ['Estonia', 3],\n",
       "       ['Fiji', 2],\n",
       "       ['Finland', 0],\n",
       "       ['France', 0],\n",
       "       ['Gabon', 2],\n",
       "       ['Gambia', 2],\n",
       "       ['Georgia', 2],\n",
       "       ['Germany', 0],\n",
       "       ['Ghana', 2],\n",
       "       ['Greece', 3],\n",
       "       ['Grenada', 2],\n",
       "       ['Guatemala', 2],\n",
       "       ['Guinea', 2],\n",
       "       ['Guinea-Bissau', 2],\n",
       "       ['Guyana', 2],\n",
       "       ['Haiti', 2],\n",
       "       ['Hungary', 3],\n",
       "       ['Iceland', 0],\n",
       "       ['India', 2],\n",
       "       ['Indonesia', 2],\n",
       "       ['Iran', 2],\n",
       "       ['Iraq', 2],\n",
       "       ['Ireland', 0],\n",
       "       ['Israel', 3],\n",
       "       ['Italy', 0],\n",
       "       ['Jamaica', 2],\n",
       "       ['Japan', 0],\n",
       "       ['Jordan', 2],\n",
       "       ['Kazakhstan', 3],\n",
       "       ['Kenya', 2],\n",
       "       ['Kiribati', 2],\n",
       "       ['Kuwait', 0],\n",
       "       ['Kyrgyz Republic', 2],\n",
       "       ['Lao', 2],\n",
       "       ['Latvia', 3],\n",
       "       ['Lebanon', 2],\n",
       "       ['Lesotho', 2],\n",
       "       ['Liberia', 2],\n",
       "       ['Libya', 3],\n",
       "       ['Lithuania', 3],\n",
       "       ['Luxembourg', 1],\n",
       "       ['Macedonia, FYR', 2],\n",
       "       ['Madagascar', 2],\n",
       "       ['Malawi', 2],\n",
       "       ['Malaysia', 3],\n",
       "       ['Maldives', 2],\n",
       "       ['Mali', 2],\n",
       "       ['Malta', 3],\n",
       "       ['Mauritania', 2],\n",
       "       ['Mauritius', 2],\n",
       "       ['Micronesia, Fed. Sts.', 2],\n",
       "       ['Moldova', 2],\n",
       "       ['Mongolia', 2],\n",
       "       ['Montenegro', 2],\n",
       "       ['Morocco', 2],\n",
       "       ['Mozambique', 2],\n",
       "       ['Myanmar', 2],\n",
       "       ['Namibia', 2],\n",
       "       ['Nepal', 2],\n",
       "       ['Netherlands', 0],\n",
       "       ['New Zealand', 3],\n",
       "       ['Niger', 2],\n",
       "       ['Nigeria', 2],\n",
       "       ['Norway', 1],\n",
       "       ['Oman', 3],\n",
       "       ['Pakistan', 2],\n",
       "       ['Panama', 2],\n",
       "       ['Paraguay', 2],\n",
       "       ['Peru', 2],\n",
       "       ['Philippines', 2],\n",
       "       ['Poland', 3],\n",
       "       ['Portugal', 3],\n",
       "       ['Qatar', 1],\n",
       "       ['Romania', 2],\n",
       "       ['Russia', 3],\n",
       "       ['Rwanda', 2],\n",
       "       ['Samoa', 2],\n",
       "       ['Saudi Arabia', 3],\n",
       "       ['Senegal', 2],\n",
       "       ['Serbia', 2],\n",
       "       ['Seychelles', 3],\n",
       "       ['Sierra Leone', 2],\n",
       "       ['Singapore', 0],\n",
       "       ['Slovak Republic', 3],\n",
       "       ['Slovenia', 3],\n",
       "       ['Solomon Islands', 2],\n",
       "       ['South Africa', 2],\n",
       "       ['South Korea', 3],\n",
       "       ['Spain', 3],\n",
       "       ['Sri Lanka', 2],\n",
       "       ['St. Vincent and the Grenadines', 2],\n",
       "       ['Sudan', 2],\n",
       "       ['Suriname', 2],\n",
       "       ['Sweden', 0],\n",
       "       ['Switzerland', 1],\n",
       "       ['Tajikistan', 2],\n",
       "       ['Tanzania', 2],\n",
       "       ['Thailand', 2],\n",
       "       ['Timor-Leste', 2],\n",
       "       ['Togo', 2],\n",
       "       ['Tonga', 2],\n",
       "       ['Tunisia', 2],\n",
       "       ['Turkey', 3],\n",
       "       ['Turkmenistan', 2],\n",
       "       ['Uganda', 2],\n",
       "       ['Ukraine', 2],\n",
       "       ['United Arab Emirates', 0],\n",
       "       ['United Kingdom', 0],\n",
       "       ['United States', 0],\n",
       "       ['Uruguay', 3],\n",
       "       ['Uzbekistan', 2],\n",
       "       ['Vanuatu', 2],\n",
       "       ['Venezuela', 3],\n",
       "       ['Vietnam', 2],\n",
       "       ['Yemen', 2],\n",
       "       ['Zambia', 2]], dtype=object)"
      ]
     },
     "execution_count": 11,
     "metadata": {},
     "output_type": "execute_result"
    }
   ],
   "source": [
    "np.stack((dataset.iloc[:,0], pred_features), axis = 1)"
   ]
  },
  {
   "cell_type": "code",
   "execution_count": null,
   "id": "periodic-focus",
   "metadata": {},
   "outputs": [],
   "source": []
  }
 ],
 "metadata": {
  "kernelspec": {
   "display_name": "Python 3",
   "language": "python",
   "name": "python3"
  },
  "language_info": {
   "codemirror_mode": {
    "name": "ipython",
    "version": 3
   },
   "file_extension": ".py",
   "mimetype": "text/x-python",
   "name": "python",
   "nbconvert_exporter": "python",
   "pygments_lexer": "ipython3",
   "version": "3.9.1"
  }
 },
 "nbformat": 4,
 "nbformat_minor": 5
}
